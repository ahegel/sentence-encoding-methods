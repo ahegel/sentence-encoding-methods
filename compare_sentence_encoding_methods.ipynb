{
 "cells": [
  {
   "cell_type": "markdown",
   "metadata": {},
   "source": [
    "# Comparing Sentence Encoding Methods to Find Aligned Sentences\n",
    "\n",
    "This project compares several methods for finding similar sentences, including Jaccard similarity, TF-IDF, GloVe, BERT, and RoBERTa. For this application, we are aligning a user question with the step in a recipe that the question is about. For example, at the end of a lasagna recipe the user might ask \"How much ricotta cheese should we use?\" That question should be aligned with the step where ricotta cheese is discussed. Here, I analyze which method is best able to align questions with steps using manually tagged data from Instructables.com as the test data. Jaccard similarity is able to achieve the highest precision with a strict threshold that only aligns a small portion of the data, while neural methods offer a good balance of precision and alignment percentage."
   ]
  },
  {
   "cell_type": "code",
   "execution_count": 22,
   "metadata": {},
   "outputs": [],
   "source": [
    "import re\n",
    "import json\n",
    "import html\n",
    "import ast\n",
    "import string\n",
    "import numpy as np\n",
    "import pandas as pd\n",
    "from sklearn.model_selection import train_test_split\n",
    "from sklearn.feature_extraction.text import CountVectorizer, TfidfVectorizer\n",
    "from sklearn.metrics import classification_report, roc_auc_score, confusion_matrix, accuracy_score, precision_score, recall_score, f1_score\n",
    "from sklearn.metrics.pairwise import linear_kernel, cosine_similarity\n",
    "from nltk import word_tokenize, sent_tokenize\n",
    "from nltk.corpus import stopwords\n",
    "from nltk.stem import WordNetLemmatizer\n",
    "from nltk.translate.bleu_score import sentence_bleu, SmoothingFunction\n",
    "import matplotlib.pyplot as plt\n",
    "import seaborn as sns\n",
    "import torch\n",
    "from transformers import BertTokenizer, BertModel, BertForMaskedLM, BertForNextSentencePrediction, RobertaTokenizer, RobertaModel, GPT2Tokenizer, GPT2Model, GPT2LMHeadModel, GPT2DoubleHeadsModel, XLNetTokenizer, XLNetModel, XLNetLMHeadModel, XLNetForSequenceClassification\n",
    "from sentence_transformers import SentenceTransformer\n",
    "\n",
    "np.random.seed(1)"
   ]
  },
  {
   "cell_type": "markdown",
   "metadata": {},
   "source": [
    "## Read in evaluation data"
   ]
  },
  {
   "cell_type": "code",
   "execution_count": 2,
   "metadata": {},
   "outputs": [
    {
     "data": {
      "text/html": [
       "<div>\n",
       "<style scoped>\n",
       "    .dataframe tbody tr th:only-of-type {\n",
       "        vertical-align: middle;\n",
       "    }\n",
       "\n",
       "    .dataframe tbody tr th {\n",
       "        vertical-align: top;\n",
       "    }\n",
       "\n",
       "    .dataframe thead th {\n",
       "        text-align: right;\n",
       "    }\n",
       "</style>\n",
       "<table border=\"1\" class=\"dataframe\">\n",
       "  <thead>\n",
       "    <tr style=\"text-align: right;\">\n",
       "      <th></th>\n",
       "      <th>question_text</th>\n",
       "      <th>step_ids</th>\n",
       "      <th>steps</th>\n",
       "      <th>url</th>\n",
       "      <th>ingredients</th>\n",
       "    </tr>\n",
       "  </thead>\n",
       "  <tbody>\n",
       "    <tr>\n",
       "      <th>0</th>\n",
       "      <td>I feel like there's a lot of content missing f...</td>\n",
       "      <td>[0, 1, 2, 3, 4, 5]</td>\n",
       "      <td>[Step 2: Scoby. The scoby is the \"mother\" and ...</td>\n",
       "      <td>https://www.instructables.com/id/Kombucha-for-...</td>\n",
       "      <td>1 gal jar Scoby Filter- can be coffee filter, ...</td>\n",
       "    </tr>\n",
       "    <tr>\n",
       "      <th>1</th>\n",
       "      <td>Is the burning of the bread purely for the col...</td>\n",
       "      <td>[0, 1, 2]</td>\n",
       "      <td>[Step 2: Burning. burn your bread literaly, I ...</td>\n",
       "      <td>https://www.instructables.com/id/bread-kvass/</td>\n",
       "      <td>I usualy make 25 liters of kvass ( pictures ar...</td>\n",
       "    </tr>\n",
       "    <tr>\n",
       "      <th>2</th>\n",
       "      <td>Thanks. Clear insturctable We have a bottle ga...</td>\n",
       "      <td>[0, 1, 2, 3, 4]</td>\n",
       "      <td>[Step 2: Prepping. Wash the duck legs, dry the...</td>\n",
       "      <td>https://www.instructables.com/id/Duck-Leg-Confit/</td>\n",
       "      <td>8 duck legs (around 250 g each) 1500 g duck fa...</td>\n",
       "    </tr>\n",
       "    <tr>\n",
       "      <th>3</th>\n",
       "      <td>I apologize if I missed it - but how many are ...</td>\n",
       "      <td>[0, 1, 2, 3, 4, 5]</td>\n",
       "      <td>[Step 2: Make the Peanut Butter Mixture. First...</td>\n",
       "      <td>https://www.instructables.com/id/Easy-Homemade...</td>\n",
       "      <td>Ingredients: (Note they don't have to be exact...</td>\n",
       "    </tr>\n",
       "    <tr>\n",
       "      <th>4</th>\n",
       "      <td>A relative with a gluten sensitivity told me t...</td>\n",
       "      <td>[0, 1, 2, 3]</td>\n",
       "      <td>[Step 2: Sugar Stuff. In a saucepan, bring sug...</td>\n",
       "      <td>https://www.instructables.com/id/No-Bake-Cooki...</td>\n",
       "      <td>Ingredients: ¾ cup sugar ½ cup brown sugar  ⅓ ...</td>\n",
       "    </tr>\n",
       "    <tr>\n",
       "      <th>...</th>\n",
       "      <td>...</td>\n",
       "      <td>...</td>\n",
       "      <td>...</td>\n",
       "      <td>...</td>\n",
       "      <td>...</td>\n",
       "    </tr>\n",
       "    <tr>\n",
       "      <th>43633</th>\n",
       "      <td>You say boiled ham but............what exactly...</td>\n",
       "      <td>[0, 1, 2, 3, 4, 5, 6, 7, 8, 9, 10, 11, 12, 13,...</td>\n",
       "      <td>[Melt butter in a large sauté pan and warm the...</td>\n",
       "      <td>https://www.food.com/recipe/brennans-eggs-huss...</td>\n",
       "      <td>2   tablespoons    butter 8   slices    Canadi...</td>\n",
       "    </tr>\n",
       "    <tr>\n",
       "      <th>43634</th>\n",
       "      <td>What is Marmite ?</td>\n",
       "      <td>[0, 1, 2, 3, 4]</td>\n",
       "      <td>[Bring a small pan of water to the boil. Caref...</td>\n",
       "      <td>https://www.food.com/recipe/british-breakfast-...</td>\n",
       "      <td>2   medium    free-range eggs, at room tempera...</td>\n",
       "    </tr>\n",
       "    <tr>\n",
       "      <th>43635</th>\n",
       "      <td>my dough turned out looking more like frosting...</td>\n",
       "      <td>[0, 1, 2, 3, 4, 5, 6, 7]</td>\n",
       "      <td>[Preheat oven to 300 degrees F., In a mixing b...</td>\n",
       "      <td>https://www.food.com/recipe/chocolate-shortbre...</td>\n",
       "      <td>1/4  cup    unsalted butter, softened  (no sub...</td>\n",
       "    </tr>\n",
       "    <tr>\n",
       "      <th>43636</th>\n",
       "      <td>If I use chicken thighs, how many per this rec...</td>\n",
       "      <td>[0, 1, 2, 3, 4, 5]</td>\n",
       "      <td>[Place all the ingredients in a saucepan over ...</td>\n",
       "      <td>https://www.food.com/recipe/japanese-mums-chic...</td>\n",
       "      <td>8       chicken drumsticks, skin on  (the skin...</td>\n",
       "    </tr>\n",
       "    <tr>\n",
       "      <th>43637</th>\n",
       "      <td>Has anyone made this with quinoa and does it w...</td>\n",
       "      <td>[0, 1, 2, 3, 4, 5, 6, 7, 8]</td>\n",
       "      <td>[Preheat oven to 375°F and grease a 9x13-inch ...</td>\n",
       "      <td>https://www.food.com/recipe/chicken-rice-and-s...</td>\n",
       "      <td>4   cups    chicken stock 2   tablespoons    o...</td>\n",
       "    </tr>\n",
       "  </tbody>\n",
       "</table>\n",
       "<p>43638 rows × 5 columns</p>\n",
       "</div>"
      ],
      "text/plain": [
       "                                           question_text  \\\n",
       "0      I feel like there's a lot of content missing f...   \n",
       "1      Is the burning of the bread purely for the col...   \n",
       "2      Thanks. Clear insturctable We have a bottle ga...   \n",
       "3      I apologize if I missed it - but how many are ...   \n",
       "4      A relative with a gluten sensitivity told me t...   \n",
       "...                                                  ...   \n",
       "43633  You say boiled ham but............what exactly...   \n",
       "43634                                  What is Marmite ?   \n",
       "43635  my dough turned out looking more like frosting...   \n",
       "43636  If I use chicken thighs, how many per this rec...   \n",
       "43637  Has anyone made this with quinoa and does it w...   \n",
       "\n",
       "                                                step_ids  \\\n",
       "0                                     [0, 1, 2, 3, 4, 5]   \n",
       "1                                              [0, 1, 2]   \n",
       "2                                        [0, 1, 2, 3, 4]   \n",
       "3                                     [0, 1, 2, 3, 4, 5]   \n",
       "4                                           [0, 1, 2, 3]   \n",
       "...                                                  ...   \n",
       "43633  [0, 1, 2, 3, 4, 5, 6, 7, 8, 9, 10, 11, 12, 13,...   \n",
       "43634                                    [0, 1, 2, 3, 4]   \n",
       "43635                           [0, 1, 2, 3, 4, 5, 6, 7]   \n",
       "43636                                 [0, 1, 2, 3, 4, 5]   \n",
       "43637                        [0, 1, 2, 3, 4, 5, 6, 7, 8]   \n",
       "\n",
       "                                                   steps  \\\n",
       "0      [Step 2: Scoby. The scoby is the \"mother\" and ...   \n",
       "1      [Step 2: Burning. burn your bread literaly, I ...   \n",
       "2      [Step 2: Prepping. Wash the duck legs, dry the...   \n",
       "3      [Step 2: Make the Peanut Butter Mixture. First...   \n",
       "4      [Step 2: Sugar Stuff. In a saucepan, bring sug...   \n",
       "...                                                  ...   \n",
       "43633  [Melt butter in a large sauté pan and warm the...   \n",
       "43634  [Bring a small pan of water to the boil. Caref...   \n",
       "43635  [Preheat oven to 300 degrees F., In a mixing b...   \n",
       "43636  [Place all the ingredients in a saucepan over ...   \n",
       "43637  [Preheat oven to 375°F and grease a 9x13-inch ...   \n",
       "\n",
       "                                                     url  \\\n",
       "0      https://www.instructables.com/id/Kombucha-for-...   \n",
       "1          https://www.instructables.com/id/bread-kvass/   \n",
       "2      https://www.instructables.com/id/Duck-Leg-Confit/   \n",
       "3      https://www.instructables.com/id/Easy-Homemade...   \n",
       "4      https://www.instructables.com/id/No-Bake-Cooki...   \n",
       "...                                                  ...   \n",
       "43633  https://www.food.com/recipe/brennans-eggs-huss...   \n",
       "43634  https://www.food.com/recipe/british-breakfast-...   \n",
       "43635  https://www.food.com/recipe/chocolate-shortbre...   \n",
       "43636  https://www.food.com/recipe/japanese-mums-chic...   \n",
       "43637  https://www.food.com/recipe/chicken-rice-and-s...   \n",
       "\n",
       "                                             ingredients  \n",
       "0      1 gal jar Scoby Filter- can be coffee filter, ...  \n",
       "1      I usualy make 25 liters of kvass ( pictures ar...  \n",
       "2      8 duck legs (around 250 g each) 1500 g duck fa...  \n",
       "3      Ingredients: (Note they don't have to be exact...  \n",
       "4      Ingredients: ¾ cup sugar ½ cup brown sugar  ⅓ ...  \n",
       "...                                                  ...  \n",
       "43633  2   tablespoons    butter 8   slices    Canadi...  \n",
       "43634  2   medium    free-range eggs, at room tempera...  \n",
       "43635  1/4  cup    unsalted butter, softened  (no sub...  \n",
       "43636  8       chicken drumsticks, skin on  (the skin...  \n",
       "43637  4   cups    chicken stock 2   tablespoons    o...  \n",
       "\n",
       "[43638 rows x 5 columns]"
      ]
     },
     "execution_count": 2,
     "metadata": {},
     "output_type": "execute_result"
    }
   ],
   "source": [
    "# Instructables (already has clean steps)\n",
    "data_path = '/alhegel/scrapes/'\n",
    "instructables_path = 'instructables_clean.jl'\n",
    "data = []\n",
    "with open(data_path + instructables_path, 'r') as infile:\n",
    "    for line in infile:\n",
    "        line = json.loads(line)\n",
    "        response_type = line['qapage_schema']['response_type']\n",
    "        if response_type == 'Question':\n",
    "            text = line['qapage_schema']['text']\n",
    "            steps = line['recipe_schema']['recipeInstructions']\n",
    "            step_ids = list(range(len(steps)))\n",
    "            url = line['recipe_schema']['url']\n",
    "            ingredients = line['recipe_schema']['recipeIngredient']\n",
    "            if not ingredients:\n",
    "                ingredients = ''\n",
    "            if isinstance(ingredients, list):\n",
    "                ingredients = ' '.join(ingredients)\n",
    "\n",
    "            row = {'question_text': text,\n",
    "                   'step_ids': step_ids,\n",
    "                   'steps': steps,\n",
    "                   'url': url,\n",
    "                   'ingredients': ingredients}\n",
    "            data.append(row)\n",
    "\n",
    "question_sources = ['wikihow_clean.jl', 'food52_clean.jl', 'smittenkitchen_clean.jl']\n",
    "mixed_sources = ['bbcgoodfood_clean.jl', 'instructables_clean.jl', 'food_clean.jl']\n",
    "all_sources = question_sources + mixed_sources\n",
    "for source in all_sources:\n",
    "    with open(data_path + source, 'r') as infile:\n",
    "        for line in infile:\n",
    "            line = json.loads(line)\n",
    "            if source in mixed_sources:\n",
    "                if line['qapage_schema']['response_type'].lower() != 'question':\n",
    "                    continue\n",
    "            text = line['qapage_schema']['text']\n",
    "            steps = line['recipe_schema']['recipeInstructions']\n",
    "            if isinstance(steps, str):\n",
    "                steps = [x for x in steps.split('\\n') if x.strip()]\n",
    "            step_ids = list(range(len(steps)))\n",
    "            url = line['recipe_schema']['url']\n",
    "            if 'recipeIngredient' in line['recipe_schema']:\n",
    "                ingredients = line['recipe_schema']['recipeIngredient']\n",
    "                if isinstance(ingredients, list):\n",
    "                    ingredients = ' '.join(ingredients)  # SHOULD INGREDIENTS BE A LIST?\n",
    "            else:\n",
    "                ingredients = ''\n",
    "\n",
    "            row = {'question_text': text,\n",
    "                   'step_ids': step_ids,\n",
    "                   'steps': steps,\n",
    "                   'url': url,\n",
    "                   'ingredients': ingredients}\n",
    "            data.append(row)\n",
    "\n",
    "raw_df = pd.DataFrame(data)\n",
    "raw_df"
   ]
  },
  {
   "cell_type": "code",
   "execution_count": 6,
   "metadata": {},
   "outputs": [
    {
     "data": {
      "text/html": [
       "<div>\n",
       "<style scoped>\n",
       "    .dataframe tbody tr th:only-of-type {\n",
       "        vertical-align: middle;\n",
       "    }\n",
       "\n",
       "    .dataframe tbody tr th {\n",
       "        vertical-align: top;\n",
       "    }\n",
       "\n",
       "    .dataframe thead th {\n",
       "        text-align: right;\n",
       "    }\n",
       "</style>\n",
       "<table border=\"1\" class=\"dataframe\">\n",
       "  <thead>\n",
       "    <tr style=\"text-align: right;\">\n",
       "      <th></th>\n",
       "      <th>question_text</th>\n",
       "      <th>step_id</th>\n",
       "      <th>step_text</th>\n",
       "      <th>url</th>\n",
       "      <th>ingredients</th>\n",
       "      <th>aligned</th>\n",
       "    </tr>\n",
       "  </thead>\n",
       "  <tbody>\n",
       "    <tr>\n",
       "      <th>0</th>\n",
       "      <td>Do these cookies freeze well?</td>\n",
       "      <td>0</td>\n",
       "      <td>Preheat oven to 350.</td>\n",
       "      <td>https://www.food.com/recipe/linzer-tarts-191826</td>\n",
       "      <td>1   cup    margarine 1/2  cup    sugar 1   lar...</td>\n",
       "      <td>0</td>\n",
       "    </tr>\n",
       "    <tr>\n",
       "      <th>1</th>\n",
       "      <td>Do these cookies freeze well?</td>\n",
       "      <td>1</td>\n",
       "      <td>Beat margarine at medium speed with an electri...</td>\n",
       "      <td>https://www.food.com/recipe/linzer-tarts-191826</td>\n",
       "      <td>1   cup    margarine 1/2  cup    sugar 1   lar...</td>\n",
       "      <td>0</td>\n",
       "    </tr>\n",
       "    <tr>\n",
       "      <th>2</th>\n",
       "      <td>Do these cookies freeze well?</td>\n",
       "      <td>2</td>\n",
       "      <td>Roll dough into small balls and place on greas...</td>\n",
       "      <td>https://www.food.com/recipe/linzer-tarts-191826</td>\n",
       "      <td>1   cup    margarine 1/2  cup    sugar 1   lar...</td>\n",
       "      <td>0</td>\n",
       "    </tr>\n",
       "    <tr>\n",
       "      <th>3</th>\n",
       "      <td>Do these cookies freeze well?</td>\n",
       "      <td>3</td>\n",
       "      <td>Dip a thimble or small round cutter in flour a...</td>\n",
       "      <td>https://www.food.com/recipe/linzer-tarts-191826</td>\n",
       "      <td>1   cup    margarine 1/2  cup    sugar 1   lar...</td>\n",
       "      <td>0</td>\n",
       "    </tr>\n",
       "    <tr>\n",
       "      <th>4</th>\n",
       "      <td>Do these cookies freeze well?</td>\n",
       "      <td>4</td>\n",
       "      <td>Bake for 8 to 10 minutes or until set.  (The c...</td>\n",
       "      <td>https://www.food.com/recipe/linzer-tarts-191826</td>\n",
       "      <td>1   cup    margarine 1/2  cup    sugar 1   lar...</td>\n",
       "      <td>0</td>\n",
       "    </tr>\n",
       "    <tr>\n",
       "      <th>...</th>\n",
       "      <td>...</td>\n",
       "      <td>...</td>\n",
       "      <td>...</td>\n",
       "      <td>...</td>\n",
       "      <td>...</td>\n",
       "      <td>...</td>\n",
       "    </tr>\n",
       "    <tr>\n",
       "      <th>1986</th>\n",
       "      <td>Can I make this recipe with rice Thai noodles?</td>\n",
       "      <td>5</td>\n",
       "      <td>Stir the ingredients.</td>\n",
       "      <td>https://www.wikihow.com/Cook-Basic-Japanese-Ramen</td>\n",
       "      <td>300ml of water 2-3 tbsp of soy sauce 2 tsp of ...</td>\n",
       "      <td>0</td>\n",
       "    </tr>\n",
       "    <tr>\n",
       "      <th>1987</th>\n",
       "      <td>Can I make this recipe with rice Thai noodles?</td>\n",
       "      <td>6</td>\n",
       "      <td>Wait for about 5 minutes for the flavors to co...</td>\n",
       "      <td>https://www.wikihow.com/Cook-Basic-Japanese-Ramen</td>\n",
       "      <td>300ml of water 2-3 tbsp of soy sauce 2 tsp of ...</td>\n",
       "      <td>0</td>\n",
       "    </tr>\n",
       "    <tr>\n",
       "      <th>1988</th>\n",
       "      <td>Can I make this recipe with rice Thai noodles?</td>\n",
       "      <td>7</td>\n",
       "      <td>Strain the soup in a strainer then put it in a...</td>\n",
       "      <td>https://www.wikihow.com/Cook-Basic-Japanese-Ramen</td>\n",
       "      <td>300ml of water 2-3 tbsp of soy sauce 2 tsp of ...</td>\n",
       "      <td>0</td>\n",
       "    </tr>\n",
       "    <tr>\n",
       "      <th>1989</th>\n",
       "      <td>Can I make this recipe with rice Thai noodles?</td>\n",
       "      <td>8</td>\n",
       "      <td>Strain the noodles as well and put it in the s...</td>\n",
       "      <td>https://www.wikihow.com/Cook-Basic-Japanese-Ramen</td>\n",
       "      <td>300ml of water 2-3 tbsp of soy sauce 2 tsp of ...</td>\n",
       "      <td>1</td>\n",
       "    </tr>\n",
       "    <tr>\n",
       "      <th>1990</th>\n",
       "      <td>Can I make this recipe with rice Thai noodles?</td>\n",
       "      <td>9</td>\n",
       "      <td>Now just add your desired toppings. You have y...</td>\n",
       "      <td>https://www.wikihow.com/Cook-Basic-Japanese-Ramen</td>\n",
       "      <td>300ml of water 2-3 tbsp of soy sauce 2 tsp of ...</td>\n",
       "      <td>0</td>\n",
       "    </tr>\n",
       "  </tbody>\n",
       "</table>\n",
       "<p>1991 rows × 6 columns</p>\n",
       "</div>"
      ],
      "text/plain": [
       "                                       question_text  step_id  \\\n",
       "0                      Do these cookies freeze well?        0   \n",
       "1                      Do these cookies freeze well?        1   \n",
       "2                      Do these cookies freeze well?        2   \n",
       "3                      Do these cookies freeze well?        3   \n",
       "4                      Do these cookies freeze well?        4   \n",
       "...                                              ...      ...   \n",
       "1986  Can I make this recipe with rice Thai noodles?        5   \n",
       "1987  Can I make this recipe with rice Thai noodles?        6   \n",
       "1988  Can I make this recipe with rice Thai noodles?        7   \n",
       "1989  Can I make this recipe with rice Thai noodles?        8   \n",
       "1990  Can I make this recipe with rice Thai noodles?        9   \n",
       "\n",
       "                                              step_text  \\\n",
       "0                                  Preheat oven to 350.   \n",
       "1     Beat margarine at medium speed with an electri...   \n",
       "2     Roll dough into small balls and place on greas...   \n",
       "3     Dip a thimble or small round cutter in flour a...   \n",
       "4     Bake for 8 to 10 minutes or until set.  (The c...   \n",
       "...                                                 ...   \n",
       "1986                              Stir the ingredients.   \n",
       "1987  Wait for about 5 minutes for the flavors to co...   \n",
       "1988  Strain the soup in a strainer then put it in a...   \n",
       "1989  Strain the noodles as well and put it in the s...   \n",
       "1990  Now just add your desired toppings. You have y...   \n",
       "\n",
       "                                                    url  \\\n",
       "0       https://www.food.com/recipe/linzer-tarts-191826   \n",
       "1       https://www.food.com/recipe/linzer-tarts-191826   \n",
       "2       https://www.food.com/recipe/linzer-tarts-191826   \n",
       "3       https://www.food.com/recipe/linzer-tarts-191826   \n",
       "4       https://www.food.com/recipe/linzer-tarts-191826   \n",
       "...                                                 ...   \n",
       "1986  https://www.wikihow.com/Cook-Basic-Japanese-Ramen   \n",
       "1987  https://www.wikihow.com/Cook-Basic-Japanese-Ramen   \n",
       "1988  https://www.wikihow.com/Cook-Basic-Japanese-Ramen   \n",
       "1989  https://www.wikihow.com/Cook-Basic-Japanese-Ramen   \n",
       "1990  https://www.wikihow.com/Cook-Basic-Japanese-Ramen   \n",
       "\n",
       "                                            ingredients  aligned  \n",
       "0     1   cup    margarine 1/2  cup    sugar 1   lar...        0  \n",
       "1     1   cup    margarine 1/2  cup    sugar 1   lar...        0  \n",
       "2     1   cup    margarine 1/2  cup    sugar 1   lar...        0  \n",
       "3     1   cup    margarine 1/2  cup    sugar 1   lar...        0  \n",
       "4     1   cup    margarine 1/2  cup    sugar 1   lar...        0  \n",
       "...                                                 ...      ...  \n",
       "1986  300ml of water 2-3 tbsp of soy sauce 2 tsp of ...        0  \n",
       "1987  300ml of water 2-3 tbsp of soy sauce 2 tsp of ...        0  \n",
       "1988  300ml of water 2-3 tbsp of soy sauce 2 tsp of ...        0  \n",
       "1989  300ml of water 2-3 tbsp of soy sauce 2 tsp of ...        1  \n",
       "1990  300ml of water 2-3 tbsp of soy sauce 2 tsp of ...        0  \n",
       "\n",
       "[1991 rows x 6 columns]"
      ]
     },
     "execution_count": 6,
     "metadata": {},
     "output_type": "execute_result"
    }
   ],
   "source": [
    "# Get manually tagged data for evaluation\n",
    "fname = 'step_alignment_manual_tags.csv'\n",
    "label_df = pd.read_csv(fname)\n",
    "label_df"
   ]
  },
  {
   "cell_type": "code",
   "execution_count": 7,
   "metadata": {},
   "outputs": [
    {
     "data": {
      "text/plain": [
       "0    1739\n",
       "1     252\n",
       "Name: aligned, dtype: int64"
      ]
     },
     "execution_count": 7,
     "metadata": {},
     "output_type": "execute_result"
    }
   ],
   "source": [
    "label_df['aligned'].value_counts()"
   ]
  },
  {
   "cell_type": "code",
   "execution_count": 10,
   "metadata": {},
   "outputs": [],
   "source": [
    "input_data = label_df[['question_text', 'step_text', 'aligned']]\n",
    "ing_input_data = label_df[['question_text', 'step_text', 'ingredients', 'aligned']]"
   ]
  },
  {
   "cell_type": "code",
   "execution_count": 11,
   "metadata": {},
   "outputs": [],
   "source": [
    "def jaccard_similarity(a, b, binary=True):\n",
    "    if binary:\n",
    "        similarity = np.double(np.bitwise_and(a, b).sum()) / np.double(np.bitwise_or(a, b).sum())\n",
    "    else:\n",
    "        numerator = np.minimum(a, b).sum()\n",
    "        denominator = np.maximum(a, b).sum()\n",
    "        similarity = numerator/denominator\n",
    "    return similarity"
   ]
  },
  {
   "cell_type": "code",
   "execution_count": 12,
   "metadata": {},
   "outputs": [],
   "source": [
    "# Evaluation methods\n",
    "def find_threshold_with_best_precision(threshold_df, min_percent_aligned=.01):\n",
    "    pivot = threshold_df.pivot(index='abs_threshold', columns='measure', values='value').reset_index()\n",
    "    pivot = pivot.sort_values(by=['Precision', 'Percent Aligned'], ascending=False)\n",
    "    valid = pivot[pivot['Percent Aligned'] >= min_percent_aligned]\n",
    "    if len(valid) > 0:\n",
    "        return valid.iloc[0]['abs_threshold']\n",
    "    else:\n",
    "        return pivot.iloc[0]['abs_threshold']\n",
    "\n",
    "def find_threshold_with_best_balance(threshold_df):\n",
    "    pass"
   ]
  },
  {
   "cell_type": "code",
   "execution_count": 13,
   "metadata": {},
   "outputs": [],
   "source": [
    "def show_classification_results(y_true, y_pred, input_idx, input_data):\n",
    "    # print(classification_report(y_true, y_pred))\n",
    "#     print('Percent correct:\\t\\t', accuracy_score(y_true, y_pred))\n",
    "    print('Precision:\\t', precision_score(y_true, y_pred))\n",
    "    print('Recall:\\t\\t', recall_score(y_true, y_pred))\n",
    "    print('F1 score:\\t', f1_score(y_true, y_pred))\n",
    "    print('Percent aligned:', sum(y_pred)/len(input_data))"
   ]
  },
  {
   "cell_type": "code",
   "execution_count": 14,
   "metadata": {},
   "outputs": [],
   "source": [
    "def show_misclassified_examples(input_data, y_true, y_pred, all_scores, input_idx, exs_to_show=5):\n",
    "    count_a, count_b, list_a, list_b = 0, 0, [], []\n",
    "    for i, idx in enumerate(input_idx):\n",
    "        if count_a < exs_to_show or count_b < exs_to_show:\n",
    "            if y_true[i] != y_pred[i]:\n",
    "                output = 'Question: ' + input_data.loc[idx]['question_text'] + \\\n",
    "                         '\\n\\n' + input_data.loc[idx]['step_text'] + '\\n' + str(all_scores[i])\n",
    "                if y_pred[i] == 1 and count_a < exs_to_show:\n",
    "                    list_a.append(output)\n",
    "                    count_a += 1\n",
    "                elif y_pred[i] == 0 and count_b < exs_to_show:\n",
    "                    list_b.append(output)\n",
    "                    count_b += 1\n",
    "        else:\n",
    "            break\n",
    "    print('MISCLASSIFIED AS ALIGNED')\n",
    "    print('\\n\\n---\\n\\n'.join(list_a))\n",
    "    print('\\n\\nMISCLASSIFIED AS NOT ALIGNED')\n",
    "    print('\\n\\n---\\n\\n'.join(list_b))"
   ]
  },
  {
   "cell_type": "markdown",
   "metadata": {},
   "source": [
    "## Count question word appearance in each step (removing stopwords)"
   ]
  },
  {
   "cell_type": "code",
   "execution_count": null,
   "metadata": {},
   "outputs": [],
   "source": [
    "class LemmaTokenizer(object):\n",
    "    def __init__(self):\n",
    "        self.wnl = WordNetLemmatizer()\n",
    "    def __call__(self, doc):\n",
    "        return [self.wnl.lemmatize(t) for t in word_tokenize(doc.lower()) if t not in stopwords.words('english')]\n",
    "\n",
    "all_text = raw_df.apply(\n",
    "    lambda x: x['question_text'] + ' ' + ' '.join(x['steps']), axis=1).values\n",
    "\n",
    "vectorizer_stop = CountVectorizer(stop_words='english')\n",
    "vectorizer_stop.fit(all_text)\n",
    "\n",
    "vectorizer_lemma = CountVectorizer(tokenizer=LemmaTokenizer())\n",
    "vectorizer_lemma.fit(all_text)"
   ]
  },
  {
   "cell_type": "code",
   "execution_count": null,
   "metadata": {},
   "outputs": [],
   "source": [
    "def count_question_words(input_data, abs_threshold=0.0, lemmatize=False):\n",
    "    y_true, y_pred, count_scores, input_idx = [], [], [], []\n",
    "    for idx, row in input_data.iterrows():\n",
    "        if lemmatize:\n",
    "            vectorizer = vectorizer_lemma\n",
    "        else:\n",
    "            vectorizer = vectorizer_stop\n",
    "        question_vector = vectorizer.transform([row['question_text']]).toarray().squeeze()\n",
    "        step_vector = vectorizer.transform([row['step_text']]).toarray().squeeze()\n",
    "        # Calculate count score\n",
    "        score = 0\n",
    "        for question_word_idx in range(len(question_vector)):\n",
    "            if question_vector[question_word_idx] > 0:\n",
    "                score += question_vector[question_word_idx] * step_vector[question_word_idx]\n",
    "        # Normalize for number of words in step\n",
    "        score = score / step_vector.sum()\n",
    "\n",
    "        if score > abs_threshold:\n",
    "            pred = 1\n",
    "        else:\n",
    "            pred = 0\n",
    "        y_true.append(row['aligned'])\n",
    "        y_pred.append(pred)\n",
    "        count_scores.append(score)\n",
    "        input_idx.append(idx)\n",
    "    return y_true, y_pred, count_scores, input_idx\n",
    "\n",
    "def make_precision_plot_count(input_data, abs_threshold_range=(0, .11, .02), lemmatize=False):\n",
    "    threshold_df = pd.DataFrame(columns=['abs_threshold', 'measure', 'value'])\n",
    "    for abs_threshold in abs_threshold_range:\n",
    "        y_true, y_pred, count_scores, input_idx = count_question_words(\n",
    "            input_data, abs_threshold=abs_threshold, lemmatize=lemmatize)\n",
    "        precision = precision_score(y_true, y_pred)\n",
    "        percent_aligned = sum(y_pred)/len(input_data)\n",
    "        threshold_df = threshold_df.append({'abs_threshold': abs_threshold,\n",
    "            'measure': 'Precision', 'value': precision}, ignore_index=True)\n",
    "        threshold_df = threshold_df.append({'abs_threshold': abs_threshold,\n",
    "            'measure': 'Percent Aligned', 'value': percent_aligned}, ignore_index=True)\n",
    "    return threshold_df"
   ]
  },
  {
   "cell_type": "code",
   "execution_count": null,
   "metadata": {},
   "outputs": [],
   "source": [
    "threshold_df = make_precision_plot_count(input_data, abs_threshold_range=np.arange(0, .61, .01))"
   ]
  },
  {
   "cell_type": "code",
   "execution_count": null,
   "metadata": {},
   "outputs": [],
   "source": [
    "sns.lineplot(x='abs_threshold', y='value', hue='measure', data=threshold_df);"
   ]
  },
  {
   "cell_type": "code",
   "execution_count": null,
   "metadata": {},
   "outputs": [],
   "source": [
    "min_percent_aligned = .01\n",
    "best_precision_threshold = find_threshold_with_best_precision(threshold_df, min_percent_aligned=min_percent_aligned)\n",
    "print('Best precision threshold with at least', min_percent_aligned*100, '% aligned:', best_precision_threshold)\n",
    "y_true, y_pred, count_scores, input_idx = count_question_words(input_data, abs_threshold=best_precision_threshold)\n",
    "show_classification_results(y_true, y_pred, input_idx, input_data)"
   ]
  },
  {
   "cell_type": "code",
   "execution_count": null,
   "metadata": {
    "scrolled": true
   },
   "outputs": [],
   "source": [
    "show_misclassified_examples(input_data, y_true, y_pred, count_scores, input_idx)"
   ]
  },
  {
   "cell_type": "code",
   "execution_count": null,
   "metadata": {},
   "outputs": [],
   "source": [
    "min_percent_aligned = .1\n",
    "percent_aligned_threshold = find_threshold_with_best_precision(threshold_df, min_percent_aligned=min_percent_aligned)\n",
    "print('Best precision threshold with at least', min_percent_aligned*100, '% aligned:', percent_aligned_threshold)\n",
    "y_true, y_pred, count_scores, input_idx = count_question_words(input_data, abs_threshold=percent_aligned_threshold)\n",
    "show_classification_results(y_true, y_pred, input_idx, input_data)"
   ]
  },
  {
   "cell_type": "code",
   "execution_count": null,
   "metadata": {
    "scrolled": true
   },
   "outputs": [],
   "source": [
    "show_misclassified_examples(input_data, y_true, y_pred, count_scores, input_idx)"
   ]
  },
  {
   "cell_type": "markdown",
   "metadata": {},
   "source": [
    "### Lemmatize words"
   ]
  },
  {
   "cell_type": "code",
   "execution_count": null,
   "metadata": {},
   "outputs": [],
   "source": [
    "threshold_df = make_precision_plot_count(input_data, abs_threshold_range=np.arange(0, .61, .05), lemmatize=True)"
   ]
  },
  {
   "cell_type": "code",
   "execution_count": null,
   "metadata": {},
   "outputs": [],
   "source": [
    "sns.lineplot(x='abs_threshold', y='value', hue='measure', data=threshold_df);"
   ]
  },
  {
   "cell_type": "code",
   "execution_count": null,
   "metadata": {},
   "outputs": [],
   "source": [
    "min_percent_aligned = .01\n",
    "best_precision_threshold = find_threshold_with_best_precision(threshold_df, min_percent_aligned=min_percent_aligned)\n",
    "print('Best precision threshold with at least', min_percent_aligned*100, '% aligned:', best_precision_threshold)\n",
    "y_true, y_pred, count_scores, input_idx = count_question_words(\n",
    "    input_data, abs_threshold=best_precision_threshold, lemmatize=True)\n",
    "show_classification_results(y_true, y_pred, input_idx, input_data)"
   ]
  },
  {
   "cell_type": "code",
   "execution_count": null,
   "metadata": {
    "scrolled": true
   },
   "outputs": [],
   "source": [
    "show_misclassified_examples(input_data, y_true, y_pred, count_scores, input_idx)"
   ]
  },
  {
   "cell_type": "code",
   "execution_count": null,
   "metadata": {},
   "outputs": [],
   "source": [
    "min_percent_aligned = .1\n",
    "percent_aligned_threshold = find_threshold_with_best_precision(threshold_df, min_percent_aligned=min_percent_aligned)\n",
    "print('Best precision threshold with at least', min_percent_aligned*100, '% aligned:', percent_aligned_threshold)\n",
    "y_true, y_pred, count_scores, input_idx = count_question_words(\n",
    "    input_data, abs_threshold=percent_aligned_threshold, lemmatize=True)\n",
    "show_classification_results(y_true, y_pred, input_idx, input_data)"
   ]
  },
  {
   "cell_type": "code",
   "execution_count": null,
   "metadata": {
    "scrolled": true
   },
   "outputs": [],
   "source": [
    "show_misclassified_examples(input_data, y_true, y_pred, count_scores, input_idx)"
   ]
  },
  {
   "cell_type": "markdown",
   "metadata": {},
   "source": [
    "## Jaccard Similarity\n",
    "\n",
    "Intersection over union"
   ]
  },
  {
   "cell_type": "code",
   "execution_count": 15,
   "metadata": {},
   "outputs": [
    {
     "data": {
      "text/plain": [
       "0.2"
      ]
     },
     "execution_count": 15,
     "metadata": {},
     "output_type": "execute_result"
    }
   ],
   "source": [
    "a = 'words are fun and cool'\n",
    "b = 'and I like them cool'\n",
    "av = [word for word in word_tokenize(a) if word not in stopwords.words('english')]\n",
    "bv = [word for word in word_tokenize(b) if word not in stopwords.words('english')]\n",
    "\n",
    "intersection = len(list(set(av).intersection(bv)))\n",
    "union = (len(av) + len(bv)) - intersection\n",
    "float(intersection)/union"
   ]
  },
  {
   "cell_type": "code",
   "execution_count": 16,
   "metadata": {},
   "outputs": [],
   "source": [
    "def compare_jaccard_similarity(input_data, abs_threshold=0.0):\n",
    "    y_true, y_pred, count_scores, input_idx = [], [], [], []\n",
    "    for idx, row in input_data.iterrows():\n",
    "        question_vector = [word for word in word_tokenize(row['question_text'].lower()) if word not in stopwords.words('english')]\n",
    "        step_vector = [word for word in word_tokenize(row['step_text'].lower()) if word not in stopwords.words('english')]\n",
    "        # Calculate jaccard similarity score\n",
    "        intersection = len(list(set(question_vector).intersection(step_vector)))\n",
    "        union = (len(question_vector) + len(step_vector)) - intersection\n",
    "        score = float(intersection)/union\n",
    "\n",
    "        if score > abs_threshold:\n",
    "            pred = 1\n",
    "        else:\n",
    "            pred = 0\n",
    "        y_true.append(row['aligned'])\n",
    "        y_pred.append(pred)\n",
    "        count_scores.append(score)\n",
    "        input_idx.append(idx)\n",
    "    return y_true, y_pred, count_scores, input_idx\n",
    "\n",
    "def make_precision_plot_jaccard(input_data, abs_threshold_range=(0, .11, .02)):\n",
    "    threshold_df = pd.DataFrame(columns=['abs_threshold', 'measure', 'value'])\n",
    "    for abs_threshold in abs_threshold_range:\n",
    "        y_true, y_pred, count_scores, input_idx = compare_jaccard_similarity(\n",
    "            input_data, abs_threshold=abs_threshold)\n",
    "        precision = precision_score(y_true, y_pred)\n",
    "        percent_aligned = sum(y_pred)/len(input_data)\n",
    "        threshold_df = threshold_df.append({'abs_threshold': abs_threshold,\n",
    "            'measure': 'Precision', 'value': precision}, ignore_index=True)\n",
    "        threshold_df = threshold_df.append({'abs_threshold': abs_threshold,\n",
    "            'measure': 'Percent Aligned', 'value': percent_aligned}, ignore_index=True)\n",
    "    return threshold_df"
   ]
  },
  {
   "cell_type": "code",
   "execution_count": null,
   "metadata": {},
   "outputs": [],
   "source": [
    "threshold_df = make_precision_plot_jaccard(input_data, abs_threshold_range=np.arange(0, .26, .025))"
   ]
  },
  {
   "cell_type": "code",
   "execution_count": null,
   "metadata": {},
   "outputs": [],
   "source": [
    "sns.lineplot(x='abs_threshold', y='value', hue='measure', data=threshold_df);"
   ]
  },
  {
   "cell_type": "code",
   "execution_count": null,
   "metadata": {},
   "outputs": [],
   "source": [
    "min_percent_aligned = .01\n",
    "best_precision_threshold = find_threshold_with_best_precision(threshold_df, min_percent_aligned=min_percent_aligned)\n",
    "print('Best precision threshold with at least', min_percent_aligned*100, '% aligned:', best_precision_threshold)\n",
    "y_true, y_pred, count_scores, input_idx = compare_jaccard_similarity(input_data, abs_threshold=best_precision_threshold)\n",
    "show_classification_results(y_true, y_pred, input_idx, input_data)"
   ]
  },
  {
   "cell_type": "code",
   "execution_count": null,
   "metadata": {
    "scrolled": true
   },
   "outputs": [],
   "source": [
    "show_misclassified_examples(input_data, y_true, y_pred, count_scores, input_idx)"
   ]
  },
  {
   "cell_type": "code",
   "execution_count": null,
   "metadata": {},
   "outputs": [],
   "source": [
    "min_percent_aligned = .1\n",
    "percent_aligned_threshold = find_threshold_with_best_precision(threshold_df, min_percent_aligned=min_percent_aligned)\n",
    "print('Best precision threshold with at least', min_percent_aligned*100, '% aligned:', percent_aligned_threshold)\n",
    "y_true, y_pred, count_scores, input_idx = compare_jaccard_similarity(input_data, abs_threshold=percent_aligned_threshold)\n",
    "show_classification_results(y_true, y_pred, input_idx, input_data)"
   ]
  },
  {
   "cell_type": "code",
   "execution_count": null,
   "metadata": {
    "scrolled": true
   },
   "outputs": [],
   "source": [
    "show_misclassified_examples(input_data, y_true, y_pred, count_scores, input_idx)"
   ]
  },
  {
   "cell_type": "markdown",
   "metadata": {},
   "source": [
    "### Customized Jaccard Similarity\n",
    "Control for long instructions by taking the intersection minus stopwords and keywords (ignore union)."
   ]
  },
  {
   "cell_type": "code",
   "execution_count": 62,
   "metadata": {},
   "outputs": [],
   "source": [
    "def compare_jaccard_similarity_custom(input_data, abs_threshold=0.0, lemmatize=False):\n",
    "    y_true, y_pred, count_scores, input_idx = [], [], [], []\n",
    "    for idx, row in input_data.iterrows():\n",
    "        extra_stopwords = stopwords.words('english')\n",
    "        extra_stopwords.extend([':', '.', '...', ',', '?', '!', \"n't\", '``', '’', \"'d\", \"'s\", \"'m\",\n",
    "                                '(', ')', '<', '>', ';', '{', '}', '-', '–', '”', '“', \"''\", '/',\n",
    "                                'hi', 'hello', 'thank', 'thanks',\n",
    "                               'think', 'like', 'add', 'use', 'make', 'would', 'could', 'put', 'much', 'also',\n",
    "                       'made', 'should', 'used', 'using', 'adding', 'making', 'step', 'many', 'work',\n",
    "                       'may', 'without', 'recipe', 'dish', 'gram', 'grams', 'ml', 'cup', 'cups',\n",
    "                       'ounce', 'ounces', 'try', 'want', 'sure', 'type', 'look', 'another', 'know',\n",
    "                       'need', 'ever', 'show', 'since', 'see', 'recipes', 'one', 'get', 'got', 'love',\n",
    "                       'hour', 'hours', 'minute', 'minutes', 'let', 'buy', 'next', 'first', 'great',\n",
    "                       'right', 'oz', 'good', 'pretty', 'thing', 'go', 'long', 'include', 'includes',\n",
    "                       'cooking', 'cook', 'qt', 'prepare', 'well', 'slight', 'maybe', 'going', 'sure',\n",
    "                       'additional', 'might', 'completely'])\n",
    "\n",
    "        question_vector = [word for word in word_tokenize(row['question_text'].lower()) if word not in extra_stopwords]\n",
    "        step_vector = [word for word in word_tokenize(row['step_text'].lower()) if word not in extra_stopwords]\n",
    "        # Calculate customized jaccard similarity score\n",
    "#         intersection = len(list(set(question_vector).intersection(step_vector)))\n",
    "#         union = (len(question_vector) + len(step_vector)) - intersection\n",
    "#         score = float(intersection)/union\n",
    "        score = len(list(set(question_vector).intersection(step_vector)))\n",
    "\n",
    "        if score > abs_threshold:\n",
    "            pred = 1\n",
    "        else:\n",
    "            pred = 0\n",
    "        y_true.append(row['aligned'])\n",
    "        y_pred.append(pred)\n",
    "        count_scores.append(score)\n",
    "        input_idx.append(idx)\n",
    "    return y_true, y_pred, count_scores, input_idx\n",
    "\n",
    "def make_precision_plot_jaccard_custom(input_data, abs_threshold_range=(0, .11, .02), lemmatize=False):\n",
    "    threshold_df = pd.DataFrame(columns=['abs_threshold', 'measure', 'value'])\n",
    "    for abs_threshold in abs_threshold_range:\n",
    "        y_true, y_pred, count_scores, input_idx = compare_jaccard_similarity_custom(\n",
    "            input_data, abs_threshold=abs_threshold, lemmatize=lemmatize)\n",
    "        precision = precision_score(y_true, y_pred)\n",
    "        percent_aligned = sum(y_pred)/len(input_data)\n",
    "        threshold_df = threshold_df.append({'abs_threshold': abs_threshold,\n",
    "            'measure': 'Precision', 'value': precision}, ignore_index=True)\n",
    "        threshold_df = threshold_df.append({'abs_threshold': abs_threshold,\n",
    "            'measure': 'Percent Aligned', 'value': percent_aligned}, ignore_index=True)\n",
    "    return threshold_df"
   ]
  },
  {
   "cell_type": "code",
   "execution_count": 63,
   "metadata": {},
   "outputs": [],
   "source": [
    "threshold_df = make_precision_plot_jaccard_custom(input_data,\n",
    "                                                  abs_threshold_range=np.arange(0, 7.51, 1.0),\n",
    "                                                  lemmatize=False)"
   ]
  },
  {
   "cell_type": "code",
   "execution_count": 64,
   "metadata": {},
   "outputs": [
    {
     "data": {
      "image/png": "[encoded data removed]",
      "text/plain": [
       "<Figure size 432x288 with 1 Axes>"
      ]
     },
     "metadata": {
      "needs_background": "light"
     },
     "output_type": "display_data"
    }
   ],
   "source": [
    "sns.lineplot(x='abs_threshold', y='value', hue='measure', data=threshold_df);"
   ]
  },
  {
   "cell_type": "code",
   "execution_count": 65,
   "metadata": {},
   "outputs": [
    {
     "name": "stdout",
     "output_type": "stream",
     "text": [
      "Best precision threshold with at least 1.0 % aligned: 2.0\n",
      "Precision:\t 0.8214285714285714\n",
      "Recall:\t\t 0.09126984126984126\n",
      "F1 score:\t 0.16428571428571428\n",
      "Percent aligned: 0.014063284781516826\n"
     ]
    }
   ],
   "source": [
    "min_percent_aligned = .01\n",
    "best_precision_threshold = find_threshold_with_best_precision(threshold_df, min_percent_aligned=min_percent_aligned)\n",
    "print('Best precision threshold with at least', min_percent_aligned*100, '% aligned:', best_precision_threshold)\n",
    "y_true, y_pred, count_scores, input_idx = compare_jaccard_similarity_custom(\n",
    "    input_data, abs_threshold=best_precision_threshold)\n",
    "show_classification_results(y_true, y_pred, input_idx, input_data)"
   ]
  },
  {
   "cell_type": "code",
   "execution_count": 66,
   "metadata": {
    "scrolled": true
   },
   "outputs": [
    {
     "name": "stdout",
     "output_type": "stream",
     "text": [
      "MISCLASSIFIED AS ALIGNED\n",
      "Question: I’m allergic to dairy – do you think I could substitute coconut milk and cream? I’ve seen coconut condensed milk around that I know I can get. I’d love to try the almond milk version but its not coming to australia…\n",
      "\n",
      "In the bottom of a pitcher, whisk cocoa powder and a spoonful of cream into a paste. Slowly, whisking the whole time, add more cream a spoonful at a time until the paste is smooth and loose enough that you can whisk the rest of the cream in larger splashes. Once all of the cream is in, whisk in condensed milk, whiskey and vanilla. Cover with lid or plastic wrap and keep in fridge for up to two weeks, possibly longer.   Serve in a tiny tumbler filled with ice, or splashed into coffee.\n",
      "3\n",
      "\n",
      "---\n",
      "\n",
      "Question: How much cream of tartar do I add to baking soda to equal 1 tablespoon of baking powder?\n",
      "\n",
      "Store the mix in an airtight container if you’re not using it right away. Use a resealable plastic container and store it in your pantry. Make sure no moisture gets inside the container since your baking powder could clump. Baking powder can be stored indefinitely. You can check if your baking soda is fresh by pouring hot water on it and seeing if it bubbles.\n",
      "3\n",
      "\n",
      "---\n",
      "\n",
      "Question: How much cream of tartar do I add to baking soda to equal 1 tablespoon of baking powder?\n",
      "\n",
      "Add 1 tsp (3 g) of corn starch to prevent clumps. If you don’t plan to use your baking powder right away, it will start to clump up and be hard to use. Stir in 1 tsp (3 g) of corn starch with a whisk to prevent clumping.\n",
      "3\n",
      "\n",
      "---\n",
      "\n",
      "Question: Can I freeze the banana nut bread?\n",
      "\n",
      "Bake for 1 hour. Once the oven is heated, place the pan with the banana nut bread mixture into it.\n",
      "3\n",
      "\n",
      "---\n",
      "\n",
      "Question: Is there an alternative to full fat milk. When only a small amount (2 tbsp.) is needed the rest gets wasted as we only drink fully skimmed for tea or coffee.\n",
      "\n",
      "To make the salted caramel, put the sugar and 2 tbsp water in a small heavy-bottomed saucepan. Place on a low heat and swirl gently until the sugar has melted. Turn up the heat and let the sugar bubble and caramelise to a nutty brown. Take off the heat and pour in the cream, butter and salt flakes – do this carefully, as it may spit. Gently stir together until smooth and glossy.\n",
      "3\n",
      "\n",
      "\n",
      "MISCLASSIFIED AS NOT ALIGNED\n",
      "Question: I am planning to try this today. Just have one question. Do I need to whip the whipping cream separately before adding it in the cheese mixture? Appreciate everyone’s feedback. Thanks.\n",
      "\n",
      "Stir in whipping cream and lemon peel.\n",
      "2\n",
      "\n",
      "---\n",
      "\n",
      "Question: I’m really confused, the baby weaning article by your expert says not to purée in fruit with vegetables to sweeten their taste? Then it leads to this recipe???\n",
      "\n",
      "Blitz to a purée in a food processor with a splash of milk to create a smooth texture. You may need to scrape the sides of the bowl a few times while blitzing to get a smooth consistency throughout.\n",
      "1\n",
      "\n",
      "---\n",
      "\n",
      "Question: Sounds good. Havent tried yet but seems reliable but not sure about the bicarb? Bicarb always seems to ruin my bakes or give them an odd after-taste....?????\n",
      "\n",
      "Sieve the flour and bicarb into a bowl. Pour in the butter mixture, add the egg and stir together to form a stiff-ish dough. Pop the dough in the fridge for 10 mins to chill and firm up. Roll out the dough on a floured surface to 5mm thick, then use an egg-shaped cutter to stamp out 15 biscuits – re-roll the dough if necessary. Poke a lollipop stick or coffee stirrer up into the bottom of each biscuit, then bake for 12 mins until golden.\n",
      "1\n",
      "\n",
      "---\n",
      "\n",
      "Question: Chad Robertson's Oat Porridge Bread calls for \"high extraction\" flour. What is this? Thanks!\n",
      "\n",
      "To maintain the leaven for regular use, continue feeding daily as described above. To save leaven for long periods without use, add enough flour to make a dry paste and keep covered in the refrigerator. When you want to use it again, keep at warm room temperature for at least 2 days and do three to four feedings to refresh and reduce the acid load that builds up while it is stored in the refrigerator.\n",
      "1\n",
      "\n",
      "---\n",
      "\n",
      "Question: Chad Robertson's Oat Porridge Bread calls for \"high extraction\" flour. What is this? Thanks!\n",
      "\n",
      "For the bench rest, lightly flour the tops of the rounds, cover with a kitchen towel, and let rest on the work surface for 20 to 30 minutes. Line two medium baskets or bowls with clean, dry kitchen towels and dust generously with a 50/50 mixture of any wheat and rice flours. Starchy rice flour (whether white or brown) is more absorbent than wheat flour and keeps the dough from sticking to the cloth-lined rising basket. Tapioca flour can also be used.\n",
      "1\n"
     ]
    }
   ],
   "source": [
    "show_misclassified_examples(input_data, y_true, y_pred, count_scores, input_idx)"
   ]
  },
  {
   "cell_type": "code",
   "execution_count": 67,
   "metadata": {},
   "outputs": [
    {
     "name": "stdout",
     "output_type": "stream",
     "text": [
      "Best precision threshold with at least 10.0 % aligned: 0.0\n",
      "Precision:\t 0.5157384987893463\n",
      "Recall:\t\t 0.8452380952380952\n",
      "F1 score:\t 0.6406015037593986\n",
      "Percent aligned: 0.2074334505273732\n"
     ]
    }
   ],
   "source": [
    "min_percent_aligned = .1\n",
    "percent_aligned_threshold = find_threshold_with_best_precision(threshold_df, min_percent_aligned=min_percent_aligned)\n",
    "print('Best precision threshold with at least', min_percent_aligned*100, '% aligned:', percent_aligned_threshold)\n",
    "y_true, y_pred, count_scores, input_idx = compare_jaccard_similarity_custom(\n",
    "    input_data, abs_threshold=percent_aligned_threshold)\n",
    "show_classification_results(y_true, y_pred, input_idx, input_data)"
   ]
  },
  {
   "cell_type": "code",
   "execution_count": 68,
   "metadata": {
    "scrolled": true
   },
   "outputs": [
    {
     "name": "stdout",
     "output_type": "stream",
     "text": [
      "MISCLASSIFIED AS ALIGNED\n",
      "Question: Do these cookies freeze well?\n",
      "\n",
      "Dip a thimble or small round cutter in flour and cut out a small circle in the center of exactly half of the cookies.\n",
      "1\n",
      "\n",
      "---\n",
      "\n",
      "Question: Do these cookies freeze well?\n",
      "\n",
      "Bake for 8 to 10 minutes or until set.  (The cookies will be pale.  The cut out halves will bake faster so watch closely.)  Transfer carefully to wire racks to cool.\n",
      "1\n",
      "\n",
      "---\n",
      "\n",
      "Question: Do these cookies freeze well?\n",
      "\n",
      "Spread raspberry preserves on top of solid cookies.  Top with remaining cookies, bottom sides down, to make sandwiches.  Sift powdered sugar over tops of cookies.\n",
      "1\n",
      "\n",
      "---\n",
      "\n",
      "Question: I am planning to try this today. Just have one question. Do I need to whip the whipping cream separately before adding it in the cheese mixture? Appreciate everyone’s feedback. Thanks.\n",
      "\n",
      "Mix cream cheese, sugar, flour, and vanilla.\n",
      "2\n",
      "\n",
      "---\n",
      "\n",
      "Question: I'm curious what the foil between the pan and the lid is for. The new Staub dutch ovens have the dimples on the lid to automatically baste the bird--this will prevent that, is that the point? Why? Excited to try this recipe, but confused about this part. thanks in advance for your help.\n",
      "\n",
      "Heat oil in large (5- to 8-quart) Dutch oven over medium heat until just smoking. Add chicken breast-side down; scatter onion, celery, garlic, bay leaf, and rosemary (if using) around chicken. Cook until breast is lightly browned, about 5 minutes. Using a wooden spoon inserted into cavity of bird, flip chicken breast-side up and cook until chicken and vegetables are well browned, 6 to 8 minutes.\n",
      "2\n",
      "\n",
      "\n",
      "MISCLASSIFIED AS NOT ALIGNED\n",
      "Question: I just bought the ingredients to make this tomorrow for Thanksgiving ... but since it doesn't say red onions, I bought the yellow cooking onions ... now the pictures look like they used red onions. Does anyone think it'll make a difference or should we run out first thing and get red onions?\n",
      "\n",
      "In a skillet saute onion,celery,and apple in olive oil, cook about 4 minutes.\n",
      "0\n",
      "\n",
      "---\n",
      "\n",
      "Question: Can I place the pie on a cookie sheet to bake?\n",
      "\n",
      "Reduce oven temperature to 350 degrees F, and continue baking for 40 to 45 minutes.\n",
      "0\n",
      "\n",
      "---\n",
      "\n",
      "Question: I had sugar/butter lumps that I couldn't smooth out. Any suggestions on how to avoid this in the future?\n",
      "\n",
      "Cream together butter and sugar.\n",
      "0\n",
      "\n",
      "---\n",
      "\n",
      "Question: How long will this last in the refrigerator?\n",
      "\n",
      "Cover and refrigerate several hours or overnight to allow flavors to blend.\n",
      "0\n",
      "\n",
      "---\n",
      "\n",
      "Question: What temperature do you cook it on\n",
      "\n",
      "Cover and cook 5-7 minutes to crisp-tender.\n",
      "0\n"
     ]
    }
   ],
   "source": [
    "show_misclassified_examples(input_data, y_true, y_pred, count_scores, input_idx)"
   ]
  },
  {
   "cell_type": "markdown",
   "metadata": {},
   "source": [
    "## BLEU Score"
   ]
  },
  {
   "cell_type": "code",
   "execution_count": 35,
   "metadata": {},
   "outputs": [],
   "source": [
    "chencherry = SmoothingFunction()\n",
    "\n",
    "def compare_bleu_score(input_data, abs_threshold=0.0):\n",
    "    y_true, y_pred, all_bleu_scores, input_idx = [], [], [], []\n",
    "    for idx, row in input_data.iterrows():\n",
    "        question = [word_tokenize(row['question_text'].lower().translate(str.maketrans('', '', string.punctuation)))]\n",
    "    #     question = [t for t in word_tokenize(row['question_text'].lower().translate(str.maketrans('', '', string.punctuation)))\n",
    "    #                 if t not in stopwords.words('english')]\n",
    "        step = word_tokenize(row['step_text'].lower().translate(str.maketrans('', '', string.punctuation)))\n",
    "#         step = [t for t in word_tokenize(row['question_text'].lower().translate(str.maketrans('', '', string.punctuation)))\n",
    "#                 if t not in stopwords.words('english')]\n",
    "        bleu_score = sentence_bleu(question, step, smoothing_function=chencherry.method1)\n",
    "        if bleu_score > abs_threshold:\n",
    "            pred = 1\n",
    "        else:\n",
    "            pred = 0\n",
    "        y_true.append(row['aligned'])\n",
    "        y_pred.append(pred)\n",
    "        all_bleu_scores.append(bleu_score)\n",
    "        input_idx.append(idx)\n",
    "    return y_true, y_pred, all_bleu_scores, input_idx\n",
    "\n",
    "def make_precision_plot_bleu(input_data, abs_threshold_range=(0, .11, .02)):\n",
    "    threshold_df = pd.DataFrame(columns=['abs_threshold', 'measure', 'value'])\n",
    "    for abs_threshold in abs_threshold_range:\n",
    "        y_true, y_pred, count_scores, input_idx = compare_bleu_score(input_data, abs_threshold=abs_threshold)\n",
    "        precision = precision_score(y_true, y_pred)\n",
    "        percent_aligned = sum(y_pred)/len(input_data)\n",
    "        threshold_df = threshold_df.append({'abs_threshold': abs_threshold,\n",
    "            'measure': 'Precision', 'value': precision}, ignore_index=True)\n",
    "        threshold_df = threshold_df.append({'abs_threshold': abs_threshold,\n",
    "            'measure': 'Percent Aligned', 'value': percent_aligned}, ignore_index=True)\n",
    "    return threshold_df"
   ]
  },
  {
   "cell_type": "code",
   "execution_count": 36,
   "metadata": {},
   "outputs": [],
   "source": [
    "threshold_df = make_precision_plot_bleu(input_data, abs_threshold_range=np.arange(0, .03, .001))"
   ]
  },
  {
   "cell_type": "code",
   "execution_count": 37,
   "metadata": {},
   "outputs": [
    {
     "data": {
      "image/png": "[encoded data removed]",
      "text/plain": [
       "<Figure size 432x288 with 1 Axes>"
      ]
     },
     "metadata": {
      "needs_background": "light"
     },
     "output_type": "display_data"
    }
   ],
   "source": [
    "sns.lineplot(x='abs_threshold', y='value', hue='measure', data=threshold_df);"
   ]
  },
  {
   "cell_type": "code",
   "execution_count": 38,
   "metadata": {},
   "outputs": [
    {
     "name": "stdout",
     "output_type": "stream",
     "text": [
      "Best precision threshold with at least 1.0 % aligned: 0.028\n",
      "Precision:\t 0.48936170212765956\n",
      "Recall:\t\t 0.09504132231404959\n",
      "F1 score:\t 0.15916955017301038\n",
      "Percent aligned: 0.023606228026117528\n"
     ]
    }
   ],
   "source": [
    "min_percent_aligned = .01\n",
    "best_precision_threshold = find_threshold_with_best_precision(threshold_df, min_percent_aligned=min_percent_aligned)\n",
    "print('Best precision threshold with at least', min_percent_aligned*100, '% aligned:', best_precision_threshold)\n",
    "y_true, y_pred, count_scores, input_idx = compare_bleu_score(input_data, abs_threshold=best_precision_threshold)\n",
    "show_classification_results(y_true, y_pred, input_idx, input_data)"
   ]
  },
  {
   "cell_type": "code",
   "execution_count": 39,
   "metadata": {},
   "outputs": [
    {
     "name": "stdout",
     "output_type": "stream",
     "text": [
      "Best threshold with at least 10.0 % aligned: 0.015\n",
      "Precision:\t 0.32456140350877194\n",
      "Recall:\t\t 0.30578512396694213\n",
      "F1 score:\t 0.3148936170212766\n",
      "Percent aligned: 0.11451531893520844\n"
     ]
    }
   ],
   "source": [
    "min_percent_aligned = .1\n",
    "percent_aligned_threshold = find_threshold_with_best_precision(threshold_df, min_percent_aligned=min_percent_aligned)\n",
    "print('Best threshold with at least', min_percent_aligned*100, '% aligned:', percent_aligned_threshold)\n",
    "y_true, y_pred, count_scores, input_idx = compare_bleu_score(input_data, abs_threshold=percent_aligned_threshold)\n",
    "show_classification_results(y_true, y_pred, input_idx, input_data)"
   ]
  },
  {
   "cell_type": "markdown",
   "metadata": {},
   "source": [
    "## TF-IDF vector similarity (w/ stopword removal and lemmatization)\n",
    "\n",
    "Includes ingredients in the TF-IDF context (not recipe description yet)"
   ]
  },
  {
   "cell_type": "code",
   "execution_count": 40,
   "metadata": {},
   "outputs": [
    {
     "data": {
      "text/plain": [
       "TfidfVectorizer(analyzer='word', binary=False, decode_error='strict',\n",
       "                dtype=<class 'numpy.float64'>, encoding='utf-8',\n",
       "                input='content', lowercase=True, max_df=1.0, max_features=None,\n",
       "                min_df=1, ngram_range=(1, 1), norm='l2', preprocessor=None,\n",
       "                smooth_idf=True, stop_words=None, strip_accents=None,\n",
       "                sublinear_tf=False, token_pattern='(?u)\\\\b\\\\w\\\\w+\\\\b',\n",
       "                tokenizer=<__main__.LemmaTokenizer object at 0x7fa8e0a2cda0>,\n",
       "                use_idf=True, vocabulary=None)"
      ]
     },
     "execution_count": 40,
     "metadata": {},
     "output_type": "execute_result"
    }
   ],
   "source": [
    "class LemmaTokenizer(object):\n",
    "    def __init__(self):\n",
    "        self.wnl = WordNetLemmatizer()\n",
    "    def __call__(self, doc):\n",
    "        return [self.wnl.lemmatize(t) for t in word_tokenize(doc.lower()) if t not in stopwords.words('english')]\n",
    "\n",
    "all_text_ing = raw_df.apply(\n",
    "    lambda x: x['question_text'] + ' ' + ' '.join(x['steps']) + ' ' + x['ingredients'], axis=1).values\n",
    "\n",
    "tfidf_vectorizer = TfidfVectorizer(tokenizer=LemmaTokenizer())\n",
    "tfidf_vectorizer.fit(all_text_ing)"
   ]
  },
  {
   "cell_type": "code",
   "execution_count": 41,
   "metadata": {},
   "outputs": [],
   "source": [
    "def compare_tfidf_similarity(input_data, tfidf_vectorizer, abs_threshold=0.0):\n",
    "    y_true, y_pred, all_tfidf_similarities, input_idx = [], [], [], []\n",
    "    for idx, row in input_data.iterrows():\n",
    "        question_vector = tfidf_vectorizer.transform([row['question_text']])\n",
    "        step_vector = tfidf_vectorizer.transform([row['step_text']])\n",
    "        # Calculate similarity between question and step vector\n",
    "        similarity = cosine_similarity(question_vector.reshape(1,-1), step_vector.reshape(1,-1))\n",
    "\n",
    "        # Jaccard similarity\n",
    "#         question_vector = np.squeeze(np.asarray(question_vector.todense()))\n",
    "#         step_vector = np.squeeze(np.asarray(step_vector.todense()))\n",
    "#         similarity = jaccard_similarity(question_vector, step_vector, binary=False)\n",
    "\n",
    "        if similarity > abs_threshold:\n",
    "            pred = 1\n",
    "        else:\n",
    "            pred = 0\n",
    "        y_true.append(row['aligned'])\n",
    "        y_pred.append(pred)\n",
    "        all_tfidf_similarities.append(similarity)\n",
    "        input_idx.append(idx)\n",
    "    return y_true, y_pred, all_tfidf_similarities, input_idx\n",
    "\n",
    "def make_precision_plot_tfidf(input_data, tfidf_vectorizer, abs_threshold_range=(0, .11, .02)):\n",
    "    threshold_df = pd.DataFrame(columns=['abs_threshold', 'measure', 'value'])\n",
    "    for abs_threshold in abs_threshold_range:\n",
    "        y_true, y_pred, count_scores, input_idx = compare_tfidf_similarity(\n",
    "            input_data, tfidf_vectorizer, abs_threshold=abs_threshold)\n",
    "        precision = precision_score(y_true, y_pred)\n",
    "        percent_aligned = sum(y_pred)/len(input_data)\n",
    "        threshold_df = threshold_df.append({'abs_threshold': abs_threshold,\n",
    "            'measure': 'Precision', 'value': precision}, ignore_index=True)\n",
    "        threshold_df = threshold_df.append({'abs_threshold': abs_threshold,\n",
    "            'measure': 'Percent Aligned', 'value': percent_aligned}, ignore_index=True)\n",
    "    return threshold_df"
   ]
  },
  {
   "cell_type": "code",
   "execution_count": 42,
   "metadata": {},
   "outputs": [],
   "source": [
    "threshold_df = make_precision_plot_tfidf(input_data, tfidf_vectorizer, abs_threshold_range=np.arange(0, .81, .05))"
   ]
  },
  {
   "cell_type": "code",
   "execution_count": 43,
   "metadata": {},
   "outputs": [
    {
     "data": {
      "image/png": "[encoded data removed]",
      "text/plain": [
       "<Figure size 432x288 with 1 Axes>"
      ]
     },
     "metadata": {
      "needs_background": "light"
     },
     "output_type": "display_data"
    }
   ],
   "source": [
    "sns.lineplot(x='abs_threshold', y='value', hue='measure', data=threshold_df);"
   ]
  },
  {
   "cell_type": "code",
   "execution_count": 44,
   "metadata": {},
   "outputs": [
    {
     "name": "stdout",
     "output_type": "stream",
     "text": [
      "Best precision threshold with at least 1.0 % aligned: 0.5\n",
      "Precision:\t 0.7727272727272727\n",
      "Recall:\t\t 0.07024793388429752\n",
      "F1 score:\t 0.1287878787878788\n",
      "Percent aligned: 0.011049723756906077\n"
     ]
    }
   ],
   "source": [
    "min_percent_aligned = .01\n",
    "best_precision_threshold = find_threshold_with_best_precision(threshold_df, min_percent_aligned=min_percent_aligned)\n",
    "print('Best precision threshold with at least', min_percent_aligned*100, '% aligned:', best_precision_threshold)\n",
    "y_true, y_pred, count_scores, input_idx = compare_tfidf_similarity(\n",
    "    input_data, tfidf_vectorizer, abs_threshold=best_precision_threshold)\n",
    "show_classification_results(y_true, y_pred, input_idx, input_data)"
   ]
  },
  {
   "cell_type": "code",
   "execution_count": 45,
   "metadata": {},
   "outputs": [
    {
     "name": "stdout",
     "output_type": "stream",
     "text": [
      "Best threshold with at least 10.0 % aligned: 0.15000000000000002\n",
      "Precision:\t 0.6129032258064516\n",
      "Recall:\t\t 0.5495867768595041\n",
      "F1 score:\t 0.579520697167756\n",
      "Percent aligned: 0.1089904570567554\n"
     ]
    }
   ],
   "source": [
    "min_percent_aligned = .1\n",
    "percent_aligned_threshold = find_threshold_with_best_precision(threshold_df, min_percent_aligned=min_percent_aligned)\n",
    "print('Best threshold with at least', min_percent_aligned*100, '% aligned:', percent_aligned_threshold)\n",
    "y_true, y_pred, count_scores, input_idx = compare_tfidf_similarity(\n",
    "    input_data, tfidf_vectorizer, abs_threshold=percent_aligned_threshold)\n",
    "show_classification_results(y_true, y_pred, input_idx, input_data)"
   ]
  },
  {
   "cell_type": "markdown",
   "metadata": {},
   "source": [
    "## Compare embedding similarity performance"
   ]
  },
  {
   "cell_type": "markdown",
   "metadata": {},
   "source": [
    "### Words"
   ]
  },
  {
   "cell_type": "code",
   "execution_count": null,
   "metadata": {},
   "outputs": [],
   "source": [
    "with open('/alhegel/scrapes/glove.twitter.27B.200d.txt', 'r') as glove_file:\n",
    "    for i, line in enumerate(glove_file):\n",
    "        if i == 38522:\n",
    "            print(line.encode('utf-8'))"
   ]
  },
  {
   "cell_type": "code",
   "execution_count": 47,
   "metadata": {},
   "outputs": [],
   "source": [
    "# Load GloVe embeddings files into memory for fast access\n",
    "def make_glove_lookup_dict(input_file):\n",
    "    glove_dict = {}\n",
    "    with open(input_file, 'r') as glove_file:\n",
    "        for i, line in enumerate(glove_file):\n",
    "            line = line.split(' ')\n",
    "            word = line[0]\n",
    "            embeddings = line[1:]\n",
    "            embeddings = np.array([float(x.strip()) for x in embeddings]).reshape(1, -1)\n",
    "            glove_dict[word] = embeddings\n",
    "    return glove_dict\n",
    "\n",
    "data_dir = '/alhegel/scrapes/'\n",
    "glove_twitter_dict = make_glove_lookup_dict(data_dir + 'glove.twitter.27B.200d.txt')\n",
    "glove_cc_dict = make_glove_lookup_dict(data_dir + 'glove.840B.300d.txt')\n",
    "glove_recipe_dict = make_glove_lookup_dict(data_dir + 'commoncrawl_scrapes_vectors_onlyinstructions.txt')"
   ]
  },
  {
   "cell_type": "code",
   "execution_count": 48,
   "metadata": {},
   "outputs": [],
   "source": [
    "bert_tokenizer = BertTokenizer.from_pretrained('bert-base-uncased')\n",
    "bert_model = BertModel.from_pretrained('bert-base-uncased')\n",
    "bert_model.eval()\n",
    "bert_masked_model = BertForMaskedLM.from_pretrained('bert-base-uncased')\n",
    "bert_masked_model.eval()\n",
    "\n",
    "roberta_tokenizer = RobertaTokenizer.from_pretrained('roberta-base')\n",
    "roberta_model = RobertaModel.from_pretrained('roberta-base')\n",
    "roberta_model.eval()\n",
    "\n",
    "gpt2_tokenizer = GPT2Tokenizer.from_pretrained('gpt2')\n",
    "gpt2_model = GPT2Model.from_pretrained('gpt2')\n",
    "gpt2_model.eval()\n",
    "gpt2_head_model = GPT2LMHeadModel.from_pretrained('gpt2')\n",
    "gpt2_head_model.eval()\n",
    "gpt2_double_model = GPT2DoubleHeadsModel.from_pretrained('gpt2')\n",
    "gpt2_double_model.eval()\n",
    "\n",
    "xlnet_tokenizer = XLNetTokenizer.from_pretrained('xlnet-large-cased')\n",
    "xlnet_model = XLNetModel.from_pretrained('xlnet-large-cased', output_hidden_states=True)\n",
    "xlnet_model.eval()\n",
    "xlnet_head_model = XLNetLMHeadModel.from_pretrained('xlnet-large-cased')\n",
    "xlnet_head_model.eval()\n",
    "xlnet_seq_model = XLNetForSequenceClassification.from_pretrained('xlnet-large-cased')\n",
    "xlnet_seq_model.eval()\n",
    "\n",
    "bert_sentence_model = SentenceTransformer('bert-base-nli-mean-tokens')"
   ]
  },
  {
   "cell_type": "code",
   "execution_count": 49,
   "metadata": {},
   "outputs": [],
   "source": [
    "def get_embeddings(sentence, model_name):\n",
    "    if model_name == 'GloVe Twitter':\n",
    "        sentence_list = word_tokenize(sentence.lower())\n",
    "        vector = []\n",
    "        for word in sentence_list:\n",
    "            if word in glove_twitter_dict:\n",
    "                vector.append(glove_twitter_dict[word])\n",
    "            else:\n",
    "                vector.append(np.expand_dims(np.array([0.0] * 200), axis=0))\n",
    "    elif model_name == 'GloVe CC':\n",
    "        sentence_list = word_tokenize(sentence.lower())\n",
    "        vector = []\n",
    "        for word in sentence_list:\n",
    "            if word in glove_cc_dict:\n",
    "                vector.append(glove_cc_dict[word])\n",
    "            else:\n",
    "                vector.append(np.expand_dims(np.array([0.0] * 300), axis=0))\n",
    "    elif model_name == 'GloVe Recipe':\n",
    "        sentence_list = word_tokenize(sentence.lower())\n",
    "        vector = []\n",
    "        for word in sentence_list:\n",
    "            if word in glove_recipe_dict:\n",
    "                vector.append(glove_recipe_dict[word])\n",
    "            else:\n",
    "                vector.append(np.expand_dims(np.array([0.0] * 300), axis=0))\n",
    "    elif model_name == 'BertModel':\n",
    "        input_ids = torch.tensor(bert_tokenizer.encode(sentence)).unsqueeze(0)\n",
    "        for remove_val in [101, 102]:  # remove [CLS] and [SEP] tokens\n",
    "            input_ids = input_ids[input_ids != remove_val]\n",
    "        input_ids = input_ids[:512]  # max token index sequence length is 512\n",
    "        with torch.no_grad():\n",
    "            vector = bert_model.embeddings.word_embeddings.weight[input_ids, :]\n",
    "        vector = [np.expand_dims(v.detach().numpy(), axis=0) for v in vector]\n",
    "    elif model_name == 'BertForMaskedLM':\n",
    "        input_ids = torch.tensor(bert_tokenizer.encode(sentence)).unsqueeze(0)\n",
    "        for remove_val in [101, 102]:  # remove [CLS] and [SEP] tokens\n",
    "            input_ids = input_ids[input_ids != remove_val]\n",
    "        input_ids = input_ids[:512]  # max token index sequence length is 512\n",
    "        with torch.no_grad():\n",
    "            last_hidden_states = bert_masked_model(input_ids[None, :])[0]\n",
    "        vector = last_hidden_states[0]\n",
    "        vector = [np.expand_dims(v.detach().numpy(), axis=0) for v in vector]\n",
    "    elif model_name == 'RobertaModel':\n",
    "        input_ids = torch.tensor(roberta_tokenizer.encode(sentence)).unsqueeze(0)\n",
    "        for remove_val in [0, 1, 2]:  # remove <s> and </s> tokens\n",
    "            input_ids = input_ids[input_ids != remove_val]\n",
    "        input_ids = input_ids[:512]  # max token index sequence length is 512\n",
    "        with torch.no_grad():\n",
    "            vector = roberta_model.embeddings.word_embeddings.weight[input_ids, :]\n",
    "        vector = [np.expand_dims(v.detach().numpy(), axis=0) for v in vector]\n",
    "    elif model_name == 'GPT2Model':\n",
    "        input_ids = torch.tensor(gpt2_tokenizer.encode(sentence, add_prefix_space=True))\n",
    "        with torch.no_grad():\n",
    "            vector = gpt2_model(input_ids)[0]\n",
    "        vector = [np.expand_dims(v.detach().numpy(), axis=0) for v in vector]\n",
    "    elif model_name == 'GPT2LMHeadModel':\n",
    "        input_ids = gpt2_tokenizer.encode(sentence, add_prefix_space=True)\n",
    "        with torch.no_grad():\n",
    "            vector = gpt2_head_model.transformer.wte.weight[input_ids, :]\n",
    "        vector = [np.expand_dims(v.detach().numpy(), axis=0) for v in vector]\n",
    "    elif model_name == 'GPT2DoubleHeadsModel':\n",
    "        input_ids = gpt2_tokenizer.encode(sentence, add_prefix_space=True)\n",
    "        with torch.no_grad():\n",
    "            vector = gpt2_double_model.transformer.wte.weight[input_ids, :]\n",
    "        vector = [np.expand_dims(v.detach().numpy(), axis=0) for v in vector]\n",
    "    elif model_name == 'XLNetModel':\n",
    "        input_ids = torch.tensor(xlnet_tokenizer.encode(sentence)).unsqueeze(0)\n",
    "        for remove_val in [3, 4]:  # remove <sep> and <cls> tokens\n",
    "            input_ids = input_ids[input_ids != remove_val]\n",
    "        with torch.no_grad():\n",
    "            logits, hidden_layers = xlnet_model(input_ids[None, :])\n",
    "        # transform 25 hidden layers into one vector for each word\n",
    "        token_embeddings = []  # will have the shape [tokens, layers, features]\n",
    "        for token_num in range(len(input_ids)):\n",
    "            token_hidden_layers = []\n",
    "            for layer_num in range(len(hidden_layers)):\n",
    "                vec = hidden_layers[layer_num][0][token_num]  # [0] is batch number\n",
    "                token_hidden_layers.append(vec)\n",
    "            token_embeddings.append(token_hidden_layers)\n",
    "        concatenated_last_4_layers = [torch.cat((layer[-1], layer[-2], layer[-3], layer[-4]), 0) for layer in token_embeddings] # [number_of_tokens, 3072]\n",
    "        summed_last_4_layers = [torch.sum(torch.stack(layer)[-4:], 0) for layer in token_embeddings] # [number_of_tokens, 768]\n",
    "        second_to_last_layer = [layer[-2] for layer in token_embeddings]\n",
    "        vector = [np.expand_dims(v.detach().numpy(), axis=0) for v in second_to_last_layer]\n",
    "    elif model_name == 'XLNetLMHeadModel':\n",
    "        pass\n",
    "    elif model_name == 'XLNetForSequenceClassification':\n",
    "        pass\n",
    "    return vector"
   ]
  },
  {
   "cell_type": "code",
   "execution_count": null,
   "metadata": {},
   "outputs": [],
   "source": [
    "# %%capture\n",
    "model_names = ['GloVe Twitter', 'GloVe CC', 'GloVe Recipe', 'BertModel', 'BertForMaskedLM', 'RobertaModel',\n",
    "               'GPT2Model', 'GPT2LMHeadModel', 'GPT2DoubleHeadsModel', 'XLNetModel']\n",
    "test_sentence = 'dog puppy car'\n",
    "\n",
    "comparison_results = []\n",
    "for model_name in model_names:\n",
    "    print(model_name)\n",
    "    vector = get_embeddings(test_sentence, model_name)\n",
    "    comp1 = cosine_similarity(vector[0], vector[1]).item(0)\n",
    "    comp2 = cosine_similarity(vector[0], vector[2]).item(0)\n",
    "    if isinstance(model_name, str):\n",
    "        model_name = model_name\n",
    "    else:\n",
    "        model_name = model_name.__name__\n",
    "    comparison_results.append({'model': model_name, 'cosine similarity': comp1, 'comparison': 'dog-puppy'})\n",
    "    comparison_results.append({'model': model_name, 'cosine similarity': comp2, 'comparison': 'dog-car'})"
   ]
  },
  {
   "cell_type": "code",
   "execution_count": 51,
   "metadata": {},
   "outputs": [
    {
     "data": {
      "text/html": [
       "<div>\n",
       "<style scoped>\n",
       "    .dataframe tbody tr th:only-of-type {\n",
       "        vertical-align: middle;\n",
       "    }\n",
       "\n",
       "    .dataframe tbody tr th {\n",
       "        vertical-align: top;\n",
       "    }\n",
       "\n",
       "    .dataframe thead th {\n",
       "        text-align: right;\n",
       "    }\n",
       "</style>\n",
       "<table border=\"1\" class=\"dataframe\">\n",
       "  <thead>\n",
       "    <tr style=\"text-align: right;\">\n",
       "      <th></th>\n",
       "      <th>model</th>\n",
       "      <th>cosine similarity</th>\n",
       "      <th>comparison</th>\n",
       "    </tr>\n",
       "  </thead>\n",
       "  <tbody>\n",
       "    <tr>\n",
       "      <th>0</th>\n",
       "      <td>GloVe Twitter</td>\n",
       "      <td>0.789041</td>\n",
       "      <td>dog-puppy</td>\n",
       "    </tr>\n",
       "    <tr>\n",
       "      <th>1</th>\n",
       "      <td>GloVe Twitter</td>\n",
       "      <td>0.527168</td>\n",
       "      <td>dog-car</td>\n",
       "    </tr>\n",
       "    <tr>\n",
       "      <th>2</th>\n",
       "      <td>GloVe CC</td>\n",
       "      <td>0.858521</td>\n",
       "      <td>dog-puppy</td>\n",
       "    </tr>\n",
       "    <tr>\n",
       "      <th>3</th>\n",
       "      <td>GloVe CC</td>\n",
       "      <td>0.356292</td>\n",
       "      <td>dog-car</td>\n",
       "    </tr>\n",
       "    <tr>\n",
       "      <th>4</th>\n",
       "      <td>GloVe Recipe</td>\n",
       "      <td>0.041042</td>\n",
       "      <td>dog-puppy</td>\n",
       "    </tr>\n",
       "    <tr>\n",
       "      <th>5</th>\n",
       "      <td>GloVe Recipe</td>\n",
       "      <td>0.220686</td>\n",
       "      <td>dog-car</td>\n",
       "    </tr>\n",
       "    <tr>\n",
       "      <th>6</th>\n",
       "      <td>BertModel</td>\n",
       "      <td>0.495211</td>\n",
       "      <td>dog-puppy</td>\n",
       "    </tr>\n",
       "    <tr>\n",
       "      <th>7</th>\n",
       "      <td>BertModel</td>\n",
       "      <td>0.380798</td>\n",
       "      <td>dog-car</td>\n",
       "    </tr>\n",
       "    <tr>\n",
       "      <th>8</th>\n",
       "      <td>BertForMaskedLM</td>\n",
       "      <td>0.993495</td>\n",
       "      <td>dog-puppy</td>\n",
       "    </tr>\n",
       "    <tr>\n",
       "      <th>9</th>\n",
       "      <td>BertForMaskedLM</td>\n",
       "      <td>0.993013</td>\n",
       "      <td>dog-car</td>\n",
       "    </tr>\n",
       "    <tr>\n",
       "      <th>10</th>\n",
       "      <td>RobertaModel</td>\n",
       "      <td>0.287864</td>\n",
       "      <td>dog-puppy</td>\n",
       "    </tr>\n",
       "    <tr>\n",
       "      <th>11</th>\n",
       "      <td>RobertaModel</td>\n",
       "      <td>0.082404</td>\n",
       "      <td>dog-car</td>\n",
       "    </tr>\n",
       "    <tr>\n",
       "      <th>12</th>\n",
       "      <td>GPT2Model</td>\n",
       "      <td>0.964964</td>\n",
       "      <td>dog-puppy</td>\n",
       "    </tr>\n",
       "    <tr>\n",
       "      <th>13</th>\n",
       "      <td>GPT2Model</td>\n",
       "      <td>0.970184</td>\n",
       "      <td>dog-car</td>\n",
       "    </tr>\n",
       "    <tr>\n",
       "      <th>14</th>\n",
       "      <td>GPT2LMHeadModel</td>\n",
       "      <td>0.621423</td>\n",
       "      <td>dog-puppy</td>\n",
       "    </tr>\n",
       "    <tr>\n",
       "      <th>15</th>\n",
       "      <td>GPT2LMHeadModel</td>\n",
       "      <td>0.418046</td>\n",
       "      <td>dog-car</td>\n",
       "    </tr>\n",
       "    <tr>\n",
       "      <th>16</th>\n",
       "      <td>GPT2DoubleHeadsModel</td>\n",
       "      <td>0.621423</td>\n",
       "      <td>dog-puppy</td>\n",
       "    </tr>\n",
       "    <tr>\n",
       "      <th>17</th>\n",
       "      <td>GPT2DoubleHeadsModel</td>\n",
       "      <td>0.418046</td>\n",
       "      <td>dog-car</td>\n",
       "    </tr>\n",
       "    <tr>\n",
       "      <th>18</th>\n",
       "      <td>XLNetModel</td>\n",
       "      <td>0.999374</td>\n",
       "      <td>dog-puppy</td>\n",
       "    </tr>\n",
       "    <tr>\n",
       "      <th>19</th>\n",
       "      <td>XLNetModel</td>\n",
       "      <td>0.997167</td>\n",
       "      <td>dog-car</td>\n",
       "    </tr>\n",
       "  </tbody>\n",
       "</table>\n",
       "</div>"
      ],
      "text/plain": [
       "                   model  cosine similarity comparison\n",
       "0          GloVe Twitter           0.789041  dog-puppy\n",
       "1          GloVe Twitter           0.527168    dog-car\n",
       "2               GloVe CC           0.858521  dog-puppy\n",
       "3               GloVe CC           0.356292    dog-car\n",
       "4           GloVe Recipe           0.041042  dog-puppy\n",
       "5           GloVe Recipe           0.220686    dog-car\n",
       "6              BertModel           0.495211  dog-puppy\n",
       "7              BertModel           0.380798    dog-car\n",
       "8        BertForMaskedLM           0.993495  dog-puppy\n",
       "9        BertForMaskedLM           0.993013    dog-car\n",
       "10          RobertaModel           0.287864  dog-puppy\n",
       "11          RobertaModel           0.082404    dog-car\n",
       "12             GPT2Model           0.964964  dog-puppy\n",
       "13             GPT2Model           0.970184    dog-car\n",
       "14       GPT2LMHeadModel           0.621423  dog-puppy\n",
       "15       GPT2LMHeadModel           0.418046    dog-car\n",
       "16  GPT2DoubleHeadsModel           0.621423  dog-puppy\n",
       "17  GPT2DoubleHeadsModel           0.418046    dog-car\n",
       "18            XLNetModel           0.999374  dog-puppy\n",
       "19            XLNetModel           0.997167    dog-car"
      ]
     },
     "execution_count": 51,
     "metadata": {},
     "output_type": "execute_result"
    }
   ],
   "source": [
    "comparison_results_df = pd.DataFrame(comparison_results)\n",
    "comparison_results_df"
   ]
  },
  {
   "cell_type": "code",
   "execution_count": 52,
   "metadata": {},
   "outputs": [
    {
     "data": {
      "image/png": "[encoded data removed]",
      "text/plain": [
       "<Figure size 1152x360 with 1 Axes>"
      ]
     },
     "metadata": {
      "needs_background": "light"
     },
     "output_type": "display_data"
    }
   ],
   "source": [
    "plt.figure(figsize=(16, 5))\n",
    "sns.barplot(x='model', y='cosine similarity', hue='comparison', data=comparison_results_df);"
   ]
  },
  {
   "cell_type": "markdown",
   "metadata": {},
   "source": [
    "### Sentences"
   ]
  },
  {
   "cell_type": "code",
   "execution_count": 53,
   "metadata": {},
   "outputs": [],
   "source": [
    "def get_mean_sentence_embedding(sentence, model_name):  # for numpy arrays\n",
    "    vector = get_embeddings(sentence, model_name)\n",
    "    mean_vector = np.average(vector, axis=0)\n",
    "    return mean_vector\n",
    "\n",
    "def get_mean_sentence_embedding_tensor(sentence, model_name):\n",
    "    vector = get_embeddings(sentence, model_name)\n",
    "    mean_vector = torch.stack(tuple(vector), dim=0).mean(dim=0)\n",
    "    return mean_vector\n",
    "\n",
    "def get_max_pooled_sentence_embedding(sentence, model_name):  # for numpy arrays\n",
    "    vector = get_embeddings(sentence, model_name)\n",
    "    max_pooled_vector = np.max(vector, axis=0)\n",
    "    return max_pooled_vector\n",
    "\n",
    "def get_max_pooled_sentence_embedding_tensor(sentence, model_name):\n",
    "    vector = get_embeddings(sentence, model_name)\n",
    "    max_pooled_vector = vector[0]\n",
    "    for i in range(vector.shape[0] - 1):  # for each word\n",
    "        max_pooled_vector = torch.max(vector[i], vector[i+1])\n",
    "    return max_pooled_vector"
   ]
  },
  {
   "cell_type": "code",
   "execution_count": 54,
   "metadata": {},
   "outputs": [],
   "source": [
    "model_names = ['GloVe Twitter', 'GloVe CC', 'GloVe Recipe', 'BertModel', 'BertForMaskedLM', 'BertSentenceModel',\n",
    "               'RobertaModel', 'GPT2Model', 'GPT2LMHeadModel', 'GPT2DoubleHeadsModel', 'XLNetModel']\n",
    "sample_input_data = pd.DataFrame({'question_text': ['Do you have a suggestion for an alternative to xanthium gum to use as a binding source?'],\n",
    "                                  'steps': [['Sift the flour into a large mixing bowl and add the xanthium Gum and salt.',\n",
    "                                             'The pasties can now be placed into the oven for 40 minutes, or a little longer for a crispier and more golden crust. Remove from the oven and place on a cooling rack - or straight onto a plate if you can\\'t wait!',\n",
    "                                             'Carefully lift the other half of the base over the first filled half.']],\n",
    "                                  'correct_id_idx': [1]})\n",
    "sample_input_data = pd.DataFrame({'question_text': ['Do you have a suggestion for an alternative to xanthium gum to use as a binding source?'],\n",
    "                                  'steps': [['Sift the flour into a large mixing bowl and add the xanthium Gum and salt.',\n",
    "                                             'The pasties can now be placed into the oven for 40 minutes, or a little longer for a crispier and more golden crust. Remove from the oven and place on a cooling rack - or straight onto a plate if you can\\'t wait!',\n",
    "                                             'Carefully lift the other half of the base over the first filled half. Lamb and mint work amazingly well - or even apple and cinnamon with some custard.']],\n",
    "                                  'correct_id_idx': [1]})\n",
    "sample_input_data = pd.DataFrame({'question_text': ['Do you have a suggestion for an alternative to xanthium gum to use as a binding source?',\n",
    "                                                    'Do you have a suggestion for an alternative to xanthium gum to use as a binding source?',\n",
    "                                                    'Do you have a suggestion for an alternative to xanthium gum to use as a binding source?'],\n",
    "                                  'step_text': ['You must have a suggestion for an alternative to xanthium gum to use as a binding source!',\n",
    "                                                'The pasties can now be placed into the oven for 40 minutes, or a little longer for a crispier and more golden crust. Remove from the oven and place on a cooling rack - or straight onto a plate if you can\\'t wait!',\n",
    "                                                'No comment.'],\n",
    "                                  'step_id': ['Step 1', 'Step 2', 'Step 3'],\n",
    "                                  'aligned': [1, 0, 0]})"
   ]
  },
  {
   "cell_type": "code",
   "execution_count": null,
   "metadata": {
    "scrolled": true
   },
   "outputs": [],
   "source": [
    "# %%capture\n",
    "comparison_results = []\n",
    "for idx, row in sample_input_data.iterrows():\n",
    "    for model_name in model_names:\n",
    "        print(model_name)\n",
    "        if model_name == 'BertSentenceModel':\n",
    "            question_vector = bert_sentence_model.encode([row['question_text']])[0].reshape(1, -1)\n",
    "            step_vector = bert_sentence_model.encode([row['step_text']])[0].reshape(1, -1)\n",
    "            print(step_vector.shape)\n",
    "            similarity = cosine_similarity(question_vector, step_vector).item(0)\n",
    "        else:\n",
    "            question_vector = get_mean_sentence_embedding(row['question_text'], model_name)\n",
    "            print(question_vector.shape)\n",
    "            step_vector = get_mean_sentence_embedding(row['step_text'], model_name)\n",
    "            similarity = cosine_similarity(question_vector, step_vector).item(0)\n",
    "        comparison_results.append({'model': model_name, 'cosine similarity': similarity, 'comparison': row['step_id']})"
   ]
  },
  {
   "cell_type": "code",
   "execution_count": 56,
   "metadata": {},
   "outputs": [
    {
     "data": {
      "text/html": [
       "<div>\n",
       "<style scoped>\n",
       "    .dataframe tbody tr th:only-of-type {\n",
       "        vertical-align: middle;\n",
       "    }\n",
       "\n",
       "    .dataframe tbody tr th {\n",
       "        vertical-align: top;\n",
       "    }\n",
       "\n",
       "    .dataframe thead th {\n",
       "        text-align: right;\n",
       "    }\n",
       "</style>\n",
       "<table border=\"1\" class=\"dataframe\">\n",
       "  <thead>\n",
       "    <tr style=\"text-align: right;\">\n",
       "      <th></th>\n",
       "      <th>model</th>\n",
       "      <th>cosine similarity</th>\n",
       "      <th>comparison</th>\n",
       "    </tr>\n",
       "  </thead>\n",
       "  <tbody>\n",
       "    <tr>\n",
       "      <th>0</th>\n",
       "      <td>GloVe Twitter</td>\n",
       "      <td>0.993180</td>\n",
       "      <td>Step 1</td>\n",
       "    </tr>\n",
       "    <tr>\n",
       "      <th>1</th>\n",
       "      <td>GloVe CC</td>\n",
       "      <td>0.992431</td>\n",
       "      <td>Step 1</td>\n",
       "    </tr>\n",
       "    <tr>\n",
       "      <th>2</th>\n",
       "      <td>GloVe Recipe</td>\n",
       "      <td>0.984688</td>\n",
       "      <td>Step 1</td>\n",
       "    </tr>\n",
       "    <tr>\n",
       "      <th>3</th>\n",
       "      <td>BertModel</td>\n",
       "      <td>0.991452</td>\n",
       "      <td>Step 1</td>\n",
       "    </tr>\n",
       "    <tr>\n",
       "      <th>4</th>\n",
       "      <td>BertForMaskedLM</td>\n",
       "      <td>0.981516</td>\n",
       "      <td>Step 1</td>\n",
       "    </tr>\n",
       "    <tr>\n",
       "      <th>5</th>\n",
       "      <td>BertSentenceModel</td>\n",
       "      <td>0.914170</td>\n",
       "      <td>Step 1</td>\n",
       "    </tr>\n",
       "    <tr>\n",
       "      <th>6</th>\n",
       "      <td>RobertaModel</td>\n",
       "      <td>0.965393</td>\n",
       "      <td>Step 1</td>\n",
       "    </tr>\n",
       "    <tr>\n",
       "      <th>7</th>\n",
       "      <td>GPT2Model</td>\n",
       "      <td>0.999698</td>\n",
       "      <td>Step 1</td>\n",
       "    </tr>\n",
       "    <tr>\n",
       "      <th>8</th>\n",
       "      <td>GPT2LMHeadModel</td>\n",
       "      <td>0.990763</td>\n",
       "      <td>Step 1</td>\n",
       "    </tr>\n",
       "    <tr>\n",
       "      <th>9</th>\n",
       "      <td>GPT2DoubleHeadsModel</td>\n",
       "      <td>0.990763</td>\n",
       "      <td>Step 1</td>\n",
       "    </tr>\n",
       "    <tr>\n",
       "      <th>10</th>\n",
       "      <td>XLNetModel</td>\n",
       "      <td>0.993177</td>\n",
       "      <td>Step 1</td>\n",
       "    </tr>\n",
       "    <tr>\n",
       "      <th>11</th>\n",
       "      <td>GloVe Twitter</td>\n",
       "      <td>0.944981</td>\n",
       "      <td>Step 2</td>\n",
       "    </tr>\n",
       "    <tr>\n",
       "      <th>12</th>\n",
       "      <td>GloVe CC</td>\n",
       "      <td>0.884508</td>\n",
       "      <td>Step 2</td>\n",
       "    </tr>\n",
       "    <tr>\n",
       "      <th>13</th>\n",
       "      <td>GloVe Recipe</td>\n",
       "      <td>0.857037</td>\n",
       "      <td>Step 2</td>\n",
       "    </tr>\n",
       "    <tr>\n",
       "      <th>14</th>\n",
       "      <td>BertModel</td>\n",
       "      <td>0.906082</td>\n",
       "      <td>Step 2</td>\n",
       "    </tr>\n",
       "    <tr>\n",
       "      <th>15</th>\n",
       "      <td>BertForMaskedLM</td>\n",
       "      <td>0.961368</td>\n",
       "      <td>Step 2</td>\n",
       "    </tr>\n",
       "    <tr>\n",
       "      <th>16</th>\n",
       "      <td>BertSentenceModel</td>\n",
       "      <td>0.277724</td>\n",
       "      <td>Step 2</td>\n",
       "    </tr>\n",
       "    <tr>\n",
       "      <th>17</th>\n",
       "      <td>RobertaModel</td>\n",
       "      <td>0.680673</td>\n",
       "      <td>Step 2</td>\n",
       "    </tr>\n",
       "    <tr>\n",
       "      <th>18</th>\n",
       "      <td>GPT2Model</td>\n",
       "      <td>0.998359</td>\n",
       "      <td>Step 2</td>\n",
       "    </tr>\n",
       "    <tr>\n",
       "      <th>19</th>\n",
       "      <td>GPT2LMHeadModel</td>\n",
       "      <td>0.914136</td>\n",
       "      <td>Step 2</td>\n",
       "    </tr>\n",
       "    <tr>\n",
       "      <th>20</th>\n",
       "      <td>GPT2DoubleHeadsModel</td>\n",
       "      <td>0.914136</td>\n",
       "      <td>Step 2</td>\n",
       "    </tr>\n",
       "    <tr>\n",
       "      <th>21</th>\n",
       "      <td>XLNetModel</td>\n",
       "      <td>0.989580</td>\n",
       "      <td>Step 2</td>\n",
       "    </tr>\n",
       "    <tr>\n",
       "      <th>22</th>\n",
       "      <td>GloVe Twitter</td>\n",
       "      <td>0.781217</td>\n",
       "      <td>Step 3</td>\n",
       "    </tr>\n",
       "    <tr>\n",
       "      <th>23</th>\n",
       "      <td>GloVe CC</td>\n",
       "      <td>0.696561</td>\n",
       "      <td>Step 3</td>\n",
       "    </tr>\n",
       "    <tr>\n",
       "      <th>24</th>\n",
       "      <td>GloVe Recipe</td>\n",
       "      <td>0.585237</td>\n",
       "      <td>Step 3</td>\n",
       "    </tr>\n",
       "    <tr>\n",
       "      <th>25</th>\n",
       "      <td>BertModel</td>\n",
       "      <td>0.687971</td>\n",
       "      <td>Step 3</td>\n",
       "    </tr>\n",
       "    <tr>\n",
       "      <th>26</th>\n",
       "      <td>BertForMaskedLM</td>\n",
       "      <td>0.944550</td>\n",
       "      <td>Step 3</td>\n",
       "    </tr>\n",
       "    <tr>\n",
       "      <th>27</th>\n",
       "      <td>BertSentenceModel</td>\n",
       "      <td>0.155846</td>\n",
       "      <td>Step 3</td>\n",
       "    </tr>\n",
       "    <tr>\n",
       "      <th>28</th>\n",
       "      <td>RobertaModel</td>\n",
       "      <td>0.306817</td>\n",
       "      <td>Step 3</td>\n",
       "    </tr>\n",
       "    <tr>\n",
       "      <th>29</th>\n",
       "      <td>GPT2Model</td>\n",
       "      <td>0.986176</td>\n",
       "      <td>Step 3</td>\n",
       "    </tr>\n",
       "    <tr>\n",
       "      <th>30</th>\n",
       "      <td>GPT2LMHeadModel</td>\n",
       "      <td>0.704060</td>\n",
       "      <td>Step 3</td>\n",
       "    </tr>\n",
       "    <tr>\n",
       "      <th>31</th>\n",
       "      <td>GPT2DoubleHeadsModel</td>\n",
       "      <td>0.704060</td>\n",
       "      <td>Step 3</td>\n",
       "    </tr>\n",
       "    <tr>\n",
       "      <th>32</th>\n",
       "      <td>XLNetModel</td>\n",
       "      <td>0.935200</td>\n",
       "      <td>Step 3</td>\n",
       "    </tr>\n",
       "  </tbody>\n",
       "</table>\n",
       "</div>"
      ],
      "text/plain": [
       "                   model  cosine similarity comparison\n",
       "0          GloVe Twitter           0.993180     Step 1\n",
       "1               GloVe CC           0.992431     Step 1\n",
       "2           GloVe Recipe           0.984688     Step 1\n",
       "3              BertModel           0.991452     Step 1\n",
       "4        BertForMaskedLM           0.981516     Step 1\n",
       "5      BertSentenceModel           0.914170     Step 1\n",
       "6           RobertaModel           0.965393     Step 1\n",
       "7              GPT2Model           0.999698     Step 1\n",
       "8        GPT2LMHeadModel           0.990763     Step 1\n",
       "9   GPT2DoubleHeadsModel           0.990763     Step 1\n",
       "10            XLNetModel           0.993177     Step 1\n",
       "11         GloVe Twitter           0.944981     Step 2\n",
       "12              GloVe CC           0.884508     Step 2\n",
       "13          GloVe Recipe           0.857037     Step 2\n",
       "14             BertModel           0.906082     Step 2\n",
       "15       BertForMaskedLM           0.961368     Step 2\n",
       "16     BertSentenceModel           0.277724     Step 2\n",
       "17          RobertaModel           0.680673     Step 2\n",
       "18             GPT2Model           0.998359     Step 2\n",
       "19       GPT2LMHeadModel           0.914136     Step 2\n",
       "20  GPT2DoubleHeadsModel           0.914136     Step 2\n",
       "21            XLNetModel           0.989580     Step 2\n",
       "22         GloVe Twitter           0.781217     Step 3\n",
       "23              GloVe CC           0.696561     Step 3\n",
       "24          GloVe Recipe           0.585237     Step 3\n",
       "25             BertModel           0.687971     Step 3\n",
       "26       BertForMaskedLM           0.944550     Step 3\n",
       "27     BertSentenceModel           0.155846     Step 3\n",
       "28          RobertaModel           0.306817     Step 3\n",
       "29             GPT2Model           0.986176     Step 3\n",
       "30       GPT2LMHeadModel           0.704060     Step 3\n",
       "31  GPT2DoubleHeadsModel           0.704060     Step 3\n",
       "32            XLNetModel           0.935200     Step 3"
      ]
     },
     "execution_count": 56,
     "metadata": {},
     "output_type": "execute_result"
    }
   ],
   "source": [
    "comparison_results_df = pd.DataFrame(comparison_results)\n",
    "comparison_results_df"
   ]
  },
  {
   "cell_type": "code",
   "execution_count": 57,
   "metadata": {},
   "outputs": [
    {
     "name": "stdout",
     "output_type": "stream",
     "text": [
      "QUESTION: Do you have a suggestion for an alternative to xanthium gum to use as a binding source? \n",
      "\n",
      "You must have a suggestion for an alternative to xanthium gum to use as a binding source! \n",
      "\n",
      "The pasties can now be placed into the oven for 40 minutes, or a little longer for a crispier and more golden crust. Remove from the oven and place on a cooling rack - or straight onto a plate if you can't wait! \n",
      "\n",
      "No comment. \n",
      "\n"
     ]
    }
   ],
   "source": [
    "print('QUESTION:', sample_input_data.iloc[0]['question_text'], '\\n')\n",
    "for idx, row in sample_input_data.iterrows():\n",
    "    print(row['step_text'], '\\n')"
   ]
  },
  {
   "cell_type": "code",
   "execution_count": 58,
   "metadata": {
    "scrolled": true
   },
   "outputs": [
    {
     "data": {
      "image/png": "[encoded data removed]",
      "text/plain": [
       "<Figure size 1152x360 with 1 Axes>"
      ]
     },
     "metadata": {
      "needs_background": "light"
     },
     "output_type": "display_data"
    }
   ],
   "source": [
    "plt.figure(figsize=(16, 5))\n",
    "sns.barplot(x='model', y='cosine similarity', hue='comparison', data=comparison_results_df);"
   ]
  },
  {
   "cell_type": "markdown",
   "metadata": {},
   "source": [
    "## Try Sentence Embedding Similarity Methods on Instructables data"
   ]
  },
  {
   "cell_type": "code",
   "execution_count": 59,
   "metadata": {},
   "outputs": [],
   "source": [
    "def get_embedding_predictions(input_data, model_name, abs_threshold=0.0):\n",
    "    y_true, y_pred, all_similarity_scores, input_idx = [], [], [], []\n",
    "    for idx, row in input_data.iterrows():\n",
    "        if model_name == 'BertSentenceModel':\n",
    "            question_vector = bert_sentence_model.encode([row['question_text']])[0].reshape(1, -1)\n",
    "            step_vector = bert_sentence_model.encode([row['step_text']])[0].reshape(1, -1)\n",
    "            similarity = cosine_similarity(question_vector, step_vector).item(0)\n",
    "            \n",
    "            # Jaccard similarity\n",
    "#             question_vector = bert_sentence_model.encode([row['question_text']])[0]\n",
    "#             step_vector = bert_sentence_model.encode([row['step_text']])[0]\n",
    "#             question_vector = np.squeeze(np.asarray(question_vector.todense()))\n",
    "#             step_vector = np.squeeze(np.asarray(step_vector.todense()))\n",
    "#             similarity = jaccard_similarity(question_vector, step_vector, binary=False)\n",
    "        else:\n",
    "            question_vector = get_mean_sentence_embedding(row['question_text'], model_name)\n",
    "            step_vector = get_mean_sentence_embedding(row['step_text'], model_name)\n",
    "            similarity = cosine_similarity(question_vector, step_vector).item(0)\n",
    "            \n",
    "            # Jaccard similarity\n",
    "#             question_vector = get_mean_sentence_embedding(row['question_text'], model_name)[0]\n",
    "#             step_vector = get_mean_sentence_embedding(row['step_text'], model_name)[0]\n",
    "#             similarity = jaccard_similarity(question_vector, step_vector, binary=False)\n",
    "        if similarity > abs_threshold:\n",
    "            pred = 1\n",
    "        else:\n",
    "            pred = 0\n",
    "        y_true.append(row['aligned'])\n",
    "        y_pred.append(pred)\n",
    "        all_similarity_scores.append(similarity)\n",
    "        input_idx.append(idx)\n",
    "    return y_true, y_pred, all_similarity_scores, input_idx\n",
    "\n",
    "def make_precision_plot_embeddings(input_data, model_name, abs_threshold_range=np.arange(0, .11, .02)):\n",
    "    threshold_df = pd.DataFrame(columns=['abs_threshold', 'measure', 'value'])\n",
    "    for abs_threshold in abs_threshold_range:\n",
    "        y_true, y_pred, all_similarity_scores, input_idx = get_embedding_predictions(\n",
    "            input_data, model_name, abs_threshold=abs_threshold)\n",
    "        precision = precision_score(y_true, y_pred)\n",
    "        percent_aligned = sum(y_pred)/len(input_data)\n",
    "        threshold_df = threshold_df.append({'abs_threshold': abs_threshold,\n",
    "            'measure': 'Precision', 'value': precision}, ignore_index=True)\n",
    "        threshold_df = threshold_df.append({'abs_threshold': abs_threshold,\n",
    "            'measure': 'Percent Aligned', 'value': percent_aligned}, ignore_index=True)\n",
    "    return threshold_df"
   ]
  },
  {
   "cell_type": "markdown",
   "metadata": {},
   "source": [
    "### GloVe Twitter"
   ]
  },
  {
   "cell_type": "code",
   "execution_count": 60,
   "metadata": {},
   "outputs": [],
   "source": [
    "%%capture\n",
    "threshold_df = make_precision_plot_embeddings(input_data, 'GloVe Twitter', abs_threshold_range=np.arange(0.5, 1.1, .05))"
   ]
  },
  {
   "cell_type": "code",
   "execution_count": 61,
   "metadata": {},
   "outputs": [
    {
     "data": {
      "image/png": "[encoded data removed]",
      "text/plain": [
       "<Figure size 432x288 with 1 Axes>"
      ]
     },
     "metadata": {
      "needs_background": "light"
     },
     "output_type": "display_data"
    }
   ],
   "source": [
    "sns.lineplot(x='abs_threshold', y='value', hue='measure', data=threshold_df);"
   ]
  },
  {
   "cell_type": "code",
   "execution_count": 62,
   "metadata": {},
   "outputs": [
    {
     "name": "stdout",
     "output_type": "stream",
     "text": [
      "Best precision threshold with at least 1.0 % aligned: 0.9500000000000004\n",
      "Precision:\t 0.25862068965517243\n",
      "Recall:\t\t 0.1859504132231405\n",
      "F1 score:\t 0.21634615384615383\n",
      "Percent aligned: 0.0873932697137117\n"
     ]
    }
   ],
   "source": [
    "min_percent_aligned = .01\n",
    "best_precision_threshold = find_threshold_with_best_precision(threshold_df, min_percent_aligned=min_percent_aligned)\n",
    "print('Best precision threshold with at least', min_percent_aligned*100, '% aligned:', best_precision_threshold)\n",
    "y_true, y_pred, count_scores, input_idx = get_embedding_predictions(\n",
    "    input_data, 'GloVe Twitter', abs_threshold=best_precision_threshold)\n",
    "show_classification_results(y_true, y_pred, input_idx, input_data)"
   ]
  },
  {
   "cell_type": "code",
   "execution_count": 63,
   "metadata": {},
   "outputs": [
    {
     "name": "stdout",
     "output_type": "stream",
     "text": [
      "Best threshold with at least 10.0 % aligned: 0.9000000000000004\n",
      "Precision:\t 0.17323651452282157\n",
      "Recall:\t\t 0.6900826446280992\n",
      "F1 score:\t 0.27694859038142616\n",
      "Percent aligned: 0.48417880462079355\n"
     ]
    }
   ],
   "source": [
    "min_percent_aligned = .1\n",
    "percent_aligned_threshold = find_threshold_with_best_precision(threshold_df, min_percent_aligned=min_percent_aligned)\n",
    "print('Best threshold with at least', min_percent_aligned*100, '% aligned:', percent_aligned_threshold)\n",
    "y_true, y_pred, count_scores, input_idx = get_embedding_predictions(\n",
    "    input_data, 'GloVe Twitter', abs_threshold=percent_aligned_threshold)\n",
    "show_classification_results(y_true, y_pred, input_idx, input_data)"
   ]
  },
  {
   "cell_type": "markdown",
   "metadata": {},
   "source": [
    "### GloVe CC"
   ]
  },
  {
   "cell_type": "code",
   "execution_count": 64,
   "metadata": {},
   "outputs": [],
   "source": [
    "%%capture\n",
    "threshold_df = make_precision_plot_embeddings(input_data, 'GloVe CC', abs_threshold_range=np.arange(0.5, 1.1, .05))"
   ]
  },
  {
   "cell_type": "code",
   "execution_count": 65,
   "metadata": {},
   "outputs": [
    {
     "data": {
      "image/png": "[encoded data removed]",
      "text/plain": [
       "<Figure size 432x288 with 1 Axes>"
      ]
     },
     "metadata": {
      "needs_background": "light"
     },
     "output_type": "display_data"
    }
   ],
   "source": [
    "sns.lineplot(x='abs_threshold', y='value', hue='measure', data=threshold_df);"
   ]
  },
  {
   "cell_type": "code",
   "execution_count": 66,
   "metadata": {},
   "outputs": [
    {
     "name": "stdout",
     "output_type": "stream",
     "text": [
      "Best precision threshold with at least 1.0 % aligned: 0.9000000000000004\n",
      "Precision:\t 0.38202247191011235\n",
      "Recall:\t\t 0.14049586776859505\n",
      "F1 score:\t 0.20543806646525678\n",
      "Percent aligned: 0.04470115519839277\n"
     ]
    }
   ],
   "source": [
    "min_percent_aligned = .01\n",
    "best_precision_threshold = find_threshold_with_best_precision(threshold_df, min_percent_aligned=min_percent_aligned)\n",
    "print('Best precision threshold with at least', min_percent_aligned*100, '% aligned:', best_precision_threshold)\n",
    "y_true, y_pred, count_scores, input_idx = get_embedding_predictions(\n",
    "    input_data, 'GloVe CC', abs_threshold=best_precision_threshold)\n",
    "show_classification_results(y_true, y_pred, input_idx, input_data)"
   ]
  },
  {
   "cell_type": "code",
   "execution_count": 67,
   "metadata": {},
   "outputs": [
    {
     "name": "stdout",
     "output_type": "stream",
     "text": [
      "Best threshold with at least 10.0 % aligned: 0.8500000000000003\n",
      "Precision:\t 0.2587601078167116\n",
      "Recall:\t\t 0.39669421487603307\n",
      "F1 score:\t 0.3132137030995106\n",
      "Percent aligned: 0.18633852335509793\n"
     ]
    }
   ],
   "source": [
    "min_percent_aligned = .1\n",
    "percent_aligned_threshold = find_threshold_with_best_precision(threshold_df, min_percent_aligned=min_percent_aligned)\n",
    "print('Best threshold with at least', min_percent_aligned*100, '% aligned:', percent_aligned_threshold)\n",
    "y_true, y_pred, count_scores, input_idx = get_embedding_predictions(\n",
    "    input_data, 'GloVe CC', abs_threshold=percent_aligned_threshold)\n",
    "show_classification_results(y_true, y_pred, input_idx, input_data)"
   ]
  },
  {
   "cell_type": "markdown",
   "metadata": {},
   "source": [
    "### GloVe Recipe"
   ]
  },
  {
   "cell_type": "code",
   "execution_count": 68,
   "metadata": {},
   "outputs": [],
   "source": [
    "%%capture\n",
    "threshold_df = make_precision_plot_embeddings(input_data, 'GloVe Recipe', abs_threshold_range=np.arange(0.5, 1.1, .05))"
   ]
  },
  {
   "cell_type": "code",
   "execution_count": 69,
   "metadata": {},
   "outputs": [
    {
     "data": {
      "image/png": "[encoded data removed]",
      "text/plain": [
       "<Figure size 432x288 with 1 Axes>"
      ]
     },
     "metadata": {
      "needs_background": "light"
     },
     "output_type": "display_data"
    }
   ],
   "source": [
    "sns.lineplot(x='abs_threshold', y='value', hue='measure', data=threshold_df);"
   ]
  },
  {
   "cell_type": "code",
   "execution_count": 70,
   "metadata": {},
   "outputs": [
    {
     "name": "stdout",
     "output_type": "stream",
     "text": [
      "Best precision threshold with at least 1.0 % aligned: 0.9000000000000004\n",
      "Precision:\t 0.46511627906976744\n",
      "Recall:\t\t 0.08264462809917356\n",
      "F1 score:\t 0.14035087719298245\n",
      "Percent aligned: 0.021597187343043698\n"
     ]
    }
   ],
   "source": [
    "min_percent_aligned = .01\n",
    "best_precision_threshold = find_threshold_with_best_precision(threshold_df, min_percent_aligned=min_percent_aligned)\n",
    "print('Best precision threshold with at least', min_percent_aligned*100, '% aligned:', best_precision_threshold)\n",
    "y_true, y_pred, count_scores, input_idx = get_embedding_predictions(\n",
    "    input_data, 'GloVe Recipe', abs_threshold=best_precision_threshold)\n",
    "show_classification_results(y_true, y_pred, input_idx, input_data)"
   ]
  },
  {
   "cell_type": "code",
   "execution_count": 71,
   "metadata": {},
   "outputs": [
    {
     "name": "stdout",
     "output_type": "stream",
     "text": [
      "Best threshold with at least 10.0 % aligned: 0.8000000000000003\n",
      "Precision:\t 0.24597701149425288\n",
      "Recall:\t\t 0.44214876033057854\n",
      "F1 score:\t 0.3161004431314623\n",
      "Percent aligned: 0.21848317428427927\n"
     ]
    }
   ],
   "source": [
    "min_percent_aligned = .1\n",
    "percent_aligned_threshold = find_threshold_with_best_precision(threshold_df, min_percent_aligned=min_percent_aligned)\n",
    "print('Best threshold with at least', min_percent_aligned*100, '% aligned:', percent_aligned_threshold)\n",
    "y_true, y_pred, count_scores, input_idx = get_embedding_predictions(\n",
    "    input_data, 'GloVe Recipe', abs_threshold=percent_aligned_threshold)\n",
    "show_classification_results(y_true, y_pred, input_idx, input_data)"
   ]
  },
  {
   "cell_type": "markdown",
   "metadata": {},
   "source": [
    "### BertSentenceModel\n",
    "\n",
    "https://github.com/UKPLab/sentence-transformers"
   ]
  },
  {
   "cell_type": "code",
   "execution_count": 72,
   "metadata": {},
   "outputs": [],
   "source": [
    "%%capture\n",
    "threshold_df = make_precision_plot_embeddings(input_data, 'BertSentenceModel',\n",
    "                                              abs_threshold_range=np.arange(.5, .91, .1))"
   ]
  },
  {
   "cell_type": "code",
   "execution_count": 73,
   "metadata": {},
   "outputs": [
    {
     "data": {
      "image/png": "[encoded data removed]",
      "text/plain": [
       "<Figure size 432x288 with 1 Axes>"
      ]
     },
     "metadata": {
      "needs_background": "light"
     },
     "output_type": "display_data"
    }
   ],
   "source": [
    "sns.lineplot(x='abs_threshold', y='value', hue='measure', data=threshold_df);"
   ]
  },
  {
   "cell_type": "code",
   "execution_count": 74,
   "metadata": {},
   "outputs": [
    {
     "name": "stdout",
     "output_type": "stream",
     "text": [
      "Best precision threshold with at least 1.0 % aligned: 0.7\n",
      "Precision:\t 0.43902439024390244\n",
      "Recall:\t\t 0.1487603305785124\n",
      "F1 score:\t 0.22222222222222224\n",
      "Percent aligned: 0.04118533400301356\n"
     ]
    }
   ],
   "source": [
    "min_percent_aligned = .01\n",
    "best_precision_threshold = find_threshold_with_best_precision(threshold_df, min_percent_aligned=min_percent_aligned)\n",
    "print('Best precision threshold with at least', min_percent_aligned*100, '% aligned:', best_precision_threshold)\n",
    "y_true, y_pred, count_scores, input_idx = get_embedding_predictions(\n",
    "    input_data, 'BertSentenceModel', abs_threshold=best_precision_threshold)\n",
    "show_classification_results(y_true, y_pred, input_idx, input_data)"
   ]
  },
  {
   "cell_type": "code",
   "execution_count": 75,
   "metadata": {},
   "outputs": [
    {
     "name": "stdout",
     "output_type": "stream",
     "text": [
      "Best threshold with at least 10.0 % aligned: 0.6\n",
      "Precision:\t 0.31666666666666665\n",
      "Recall:\t\t 0.47107438016528924\n",
      "F1 score:\t 0.3787375415282392\n",
      "Percent aligned: 0.1808136614766449\n"
     ]
    }
   ],
   "source": [
    "min_percent_aligned = .1\n",
    "percent_aligned_threshold = find_threshold_with_best_precision(threshold_df, min_percent_aligned=min_percent_aligned)\n",
    "print('Best threshold with at least', min_percent_aligned*100, '% aligned:', percent_aligned_threshold)\n",
    "y_true, y_pred, count_scores, input_idx = get_embedding_predictions(\n",
    "    input_data, 'BertSentenceModel', abs_threshold=percent_aligned_threshold)\n",
    "show_classification_results(y_true, y_pred, input_idx, input_data)"
   ]
  },
  {
   "cell_type": "markdown",
   "metadata": {},
   "source": [
    "### RoBERTa"
   ]
  },
  {
   "cell_type": "code",
   "execution_count": 76,
   "metadata": {
    "scrolled": true
   },
   "outputs": [],
   "source": [
    "%%capture\n",
    "threshold_df = make_precision_plot_embeddings(input_data, 'RobertaModel', abs_threshold_range=np.arange(.3, .91, .1))"
   ]
  },
  {
   "cell_type": "code",
   "execution_count": 77,
   "metadata": {
    "scrolled": false
   },
   "outputs": [
    {
     "data": {
      "image/png": "[encoded data removed]",
      "text/plain": [
       "<Figure size 432x288 with 1 Axes>"
      ]
     },
     "metadata": {
      "needs_background": "light"
     },
     "output_type": "display_data"
    }
   ],
   "source": [
    "sns.lineplot(x='abs_threshold', y='value', hue='measure', data=threshold_df);"
   ]
  },
  {
   "cell_type": "code",
   "execution_count": 78,
   "metadata": {},
   "outputs": [
    {
     "name": "stdout",
     "output_type": "stream",
     "text": [
      "Best precision threshold with at least 1.0 % aligned: 0.7000000000000002\n",
      "Precision:\t 0.3577981651376147\n",
      "Recall:\t\t 0.16115702479338842\n",
      "F1 score:\t 0.22222222222222224\n",
      "Percent aligned: 0.05474635861376193\n"
     ]
    }
   ],
   "source": [
    "min_percent_aligned = .01\n",
    "best_precision_threshold = find_threshold_with_best_precision(threshold_df, min_percent_aligned=min_percent_aligned)\n",
    "print('Best precision threshold with at least', min_percent_aligned*100, '% aligned:', best_precision_threshold)\n",
    "y_true, y_pred, count_scores, input_idx = get_embedding_predictions(\n",
    "    input_data, 'RobertaModel', abs_threshold=best_precision_threshold)\n",
    "show_classification_results(y_true, y_pred, input_idx, input_data)"
   ]
  },
  {
   "cell_type": "code",
   "execution_count": 79,
   "metadata": {},
   "outputs": [
    {
     "name": "stdout",
     "output_type": "stream",
     "text": [
      "Best threshold with at least 10.0 % aligned: 0.6000000000000001\n",
      "Precision:\t 0.2793733681462141\n",
      "Recall:\t\t 0.44214876033057854\n",
      "F1 score:\t 0.34240000000000004\n",
      "Percent aligned: 0.19236564540431944\n"
     ]
    }
   ],
   "source": [
    "min_percent_aligned = .1\n",
    "percent_aligned_threshold = find_threshold_with_best_precision(threshold_df, min_percent_aligned=min_percent_aligned)\n",
    "print('Best threshold with at least', min_percent_aligned*100, '% aligned:', percent_aligned_threshold)\n",
    "y_true, y_pred, count_scores, input_idx = get_embedding_predictions(\n",
    "    input_data, 'RobertaModel', abs_threshold=percent_aligned_threshold)\n",
    "show_classification_results(y_true, y_pred, input_idx, input_data)"
   ]
  },
  {
   "cell_type": "markdown",
   "metadata": {},
   "source": [
    "## Upweight ingredient words"
   ]
  },
  {
   "cell_type": "code",
   "execution_count": 80,
   "metadata": {},
   "outputs": [
    {
     "data": {
      "text/plain": [
       "array([0.75, 1.5 , 0.75, 0.75])"
      ]
     },
     "execution_count": 80,
     "metadata": {},
     "output_type": "execute_result"
    }
   ],
   "source": [
    "# Method:\n",
    "word1 = np.array([1,2,1,1])\n",
    "word2 = np.array([0,0,0,0])\n",
    "weights = np.array([.75,.25])\n",
    "np.average([word1, word2], axis=0, weights=weights)"
   ]
  },
  {
   "cell_type": "code",
   "execution_count": 81,
   "metadata": {},
   "outputs": [],
   "source": [
    "def get_mean_sentence_embeddings_ing_weighted(sentence, model_name, weight_text):\n",
    "    # tokenize the sentence to be weighted\n",
    "    if model_name in ['BertModel', 'BertForMaskedLM']:\n",
    "        tokenizer = bert_tokenizer\n",
    "    elif model_name in ['RobertaModel']:\n",
    "        tokenizer = roberta_tokenizer\n",
    "    elif model_name in ['GPT2Model', 'GPT2LMHeadModel', 'GPT2DoubleHeadsModel']:\n",
    "        tokenizer = gpt2_tokenizer\n",
    "    elif model_name in ['XLNetModel', 'XLNetLMHeadModel', 'XLNetForSequenceClassification']:\n",
    "        tokenizer = xlnet_tokenizer\n",
    "    if model_name in ['GPT2Model', 'GPT2LMHeadModel', 'GPT2DoubleHeadsModel']:\n",
    "        text_index = tokenizer.encode(sentence, add_prefix_space=True)\n",
    "    else:\n",
    "        text_index = tokenizer.encode(sentence)\n",
    "    sentence_words = [tokenizer.decode(t) for t in text_index]\n",
    "    for remove_val in ['[CLS]', '[SEP]', '<cls>', '<sep>', '<s>', '</s>']:  # remove [CLS] and [SEP] tokens\n",
    "        if remove_val in sentence_words:\n",
    "            sentence_words.remove(remove_val)\n",
    "    sentence_words = sentence_words[:512]\n",
    "    \n",
    "    # also tokenize the text you're going to upweight (remove punctuation and stopwords)\n",
    "    weight_text = weight_text.lower().translate(str.maketrans('', '', string.punctuation))\n",
    "    weight_text = [t for t in word_tokenize(weight_text) if t not in stopwords.words('english')]\n",
    "    weight_text = ' '.join(weight_text)\n",
    "    weight_text = tokenizer.encode(weight_text)\n",
    "\n",
    "    # calculate weights for each word in the sentence\n",
    "    weights = np.array([])\n",
    "    for sentence_word in sentence_words:\n",
    "        if sentence_word.lower().strip() in weight_text:\n",
    "#             print('match:', sentence_word)\n",
    "            weights = np.append(weights, 10)\n",
    "        else:\n",
    "            weights = np.append(weights, 1)\n",
    "    weights = np.divide(weights, weights.sum())\n",
    "\n",
    "    # calculate weighted mean\n",
    "    sentence_vector = get_embeddings(sentence, model_name)  # vector size len(sentence_words) x 768\n",
    "    weighted_mean_vector = np.average(sentence_vector, axis=0, weights=weights)\n",
    "    return weighted_mean_vector"
   ]
  },
  {
   "cell_type": "code",
   "execution_count": 82,
   "metadata": {},
   "outputs": [],
   "source": [
    "def get_embedding_predictions_ing_weighted(ing_input_data, model_name, abs_threshold=0.0):\n",
    "    y_true, y_pred, all_similarity_scores, input_idx = [], [], [], []\n",
    "    for idx, row in ing_input_data.iterrows():\n",
    "        ingredient_text = str(row['ingredients'])\n",
    "        if model_name == 'BertSentenceModel':\n",
    "            question_vector = bert_sentence_model.encode([row['question_text']])[0].reshape(1, -1)\n",
    "            step_vector = bert_sentence_model.encode([row['step_text']])[0].reshape(1, -1)\n",
    "            similarity = cosine_similarity(question_vector, step_vector).item(0)\n",
    "        else:\n",
    "            question_vector = get_mean_sentence_embeddings_ing_weighted(\n",
    "                row['question_text'], model_name, ingredient_text).reshape(1, -1)\n",
    "            step_vector = get_mean_sentence_embeddings_ing_weighted(\n",
    "                row['step_text'], model_name, ingredient_text).reshape(1, -1)\n",
    "            similarity = cosine_similarity(question_vector, step_vector).item(0)\n",
    "        if similarity > abs_threshold:\n",
    "            pred = 1\n",
    "        else:\n",
    "            pred = 0\n",
    "        y_true.append(row['aligned'])\n",
    "        y_pred.append(pred)\n",
    "        all_similarity_scores.append(similarity)\n",
    "        input_idx.append(idx)\n",
    "    return y_true, y_pred, all_similarity_scores, input_idx\n",
    "\n",
    "def make_precision_plot_embeddings_ing_weighted(input_data, model_name, abs_threshold_range=np.arange(0, .11, .02)):\n",
    "    threshold_df = pd.DataFrame(columns=['abs_threshold', 'measure', 'value'])\n",
    "    for abs_threshold in abs_threshold_range:\n",
    "        y_true, y_pred, all_similarity_scores, input_idx = get_embedding_predictions_ing_weighted(\n",
    "            input_data, model_name, abs_threshold=abs_threshold)\n",
    "        precision = precision_score(y_true, y_pred)\n",
    "        percent_aligned = sum(y_pred)/len(input_data)\n",
    "        threshold_df = threshold_df.append({'abs_threshold': abs_threshold,\n",
    "            'measure': 'Precision', 'value': precision}, ignore_index=True)\n",
    "        threshold_df = threshold_df.append({'abs_threshold': abs_threshold,\n",
    "            'measure': 'Percent Aligned', 'value': percent_aligned}, ignore_index=True)\n",
    "    return threshold_df"
   ]
  },
  {
   "cell_type": "markdown",
   "metadata": {},
   "source": [
    "### BertSentenceModel"
   ]
  },
  {
   "cell_type": "code",
   "execution_count": 83,
   "metadata": {
    "scrolled": true
   },
   "outputs": [
    {
     "name": "stderr",
     "output_type": "stream",
     "text": [
      "/home/alhegel/.conda/envs/recipeqa/lib/python3.6/site-packages/sklearn/metrics/classification.py:1437: UndefinedMetricWarning: Precision is ill-defined and being set to 0.0 due to no predicted samples.\n",
      "  'precision', 'predicted', average, warn_for)\n"
     ]
    }
   ],
   "source": [
    "# %%capture\n",
    "threshold_df = make_precision_plot_embeddings_ing_weighted(ing_input_data, 'BertSentenceModel',\n",
    "                                                           abs_threshold_range=np.arange(0.0, 1.1, .1))"
   ]
  },
  {
   "cell_type": "code",
   "execution_count": 84,
   "metadata": {
    "scrolled": false
   },
   "outputs": [
    {
     "data": {
      "image/png": "[encoded data removed]",
      "text/plain": [
       "<Figure size 432x288 with 1 Axes>"
      ]
     },
     "metadata": {
      "needs_background": "light"
     },
     "output_type": "display_data"
    }
   ],
   "source": [
    "sns.lineplot(x='abs_threshold', y='value', hue='measure', data=threshold_df);"
   ]
  },
  {
   "cell_type": "code",
   "execution_count": 85,
   "metadata": {},
   "outputs": [
    {
     "name": "stdout",
     "output_type": "stream",
     "text": [
      "Best precision threshold with at least 1.0 % aligned: 0.7000000000000001\n",
      "Precision:\t 0.43902439024390244\n",
      "Recall:\t\t 0.1487603305785124\n",
      "F1 score:\t 0.22222222222222224\n",
      "Percent aligned: 0.04118533400301356\n"
     ]
    }
   ],
   "source": [
    "min_percent_aligned = .01\n",
    "best_precision_threshold = find_threshold_with_best_precision(threshold_df, min_percent_aligned=min_percent_aligned)\n",
    "print('Best precision threshold with at least', min_percent_aligned*100, '% aligned:', best_precision_threshold)\n",
    "y_true, y_pred, count_scores, input_idx = get_embedding_predictions_ing_weighted(\n",
    "    ing_input_data, 'BertSentenceModel', abs_threshold=best_precision_threshold)\n",
    "show_classification_results(y_true, y_pred, input_idx, input_data)"
   ]
  },
  {
   "cell_type": "code",
   "execution_count": 86,
   "metadata": {},
   "outputs": [
    {
     "name": "stdout",
     "output_type": "stream",
     "text": [
      "Best threshold with at least 10.0 % aligned: 0.6000000000000001\n",
      "Precision:\t 0.31666666666666665\n",
      "Recall:\t\t 0.47107438016528924\n",
      "F1 score:\t 0.3787375415282392\n",
      "Percent aligned: 0.1808136614766449\n"
     ]
    }
   ],
   "source": [
    "min_percent_aligned = .1\n",
    "percent_aligned_threshold = find_threshold_with_best_precision(threshold_df, min_percent_aligned=min_percent_aligned)\n",
    "print('Best threshold with at least', min_percent_aligned*100, '% aligned:', percent_aligned_threshold)\n",
    "y_true, y_pred, count_scores, input_idx = get_embedding_predictions_ing_weighted(\n",
    "    ing_input_data, 'BertSentenceModel', abs_threshold=percent_aligned_threshold)\n",
    "show_classification_results(y_true, y_pred, input_idx, input_data)"
   ]
  },
  {
   "cell_type": "markdown",
   "metadata": {},
   "source": [
    "### RobertaModel"
   ]
  },
  {
   "cell_type": "code",
   "execution_count": 87,
   "metadata": {
    "scrolled": true
   },
   "outputs": [
    {
     "name": "stderr",
     "output_type": "stream",
     "text": [
      "/home/alhegel/.conda/envs/recipeqa/lib/python3.6/site-packages/sklearn/metrics/classification.py:1437: UndefinedMetricWarning: Precision is ill-defined and being set to 0.0 due to no predicted samples.\n",
      "  'precision', 'predicted', average, warn_for)\n"
     ]
    }
   ],
   "source": [
    "# %%capture\n",
    "threshold_df = make_precision_plot_embeddings_ing_weighted(ing_input_data, 'RobertaModel',\n",
    "                                                           abs_threshold_range=np.arange(0.0, 1.1, .1))"
   ]
  },
  {
   "cell_type": "code",
   "execution_count": 88,
   "metadata": {
    "scrolled": false
   },
   "outputs": [
    {
     "data": {
      "image/png": "[encoded data removed]",
      "text/plain": [
       "<Figure size 432x288 with 1 Axes>"
      ]
     },
     "metadata": {
      "needs_background": "light"
     },
     "output_type": "display_data"
    }
   ],
   "source": [
    "sns.lineplot(x='abs_threshold', y='value', hue='measure', data=threshold_df);"
   ]
  },
  {
   "cell_type": "code",
   "execution_count": 89,
   "metadata": {
    "scrolled": true
   },
   "outputs": [
    {
     "name": "stdout",
     "output_type": "stream",
     "text": [
      "Best precision threshold with at least 1.0 % aligned: 0.7000000000000001\n",
      "Precision:\t 0.3577981651376147\n",
      "Recall:\t\t 0.16115702479338842\n",
      "F1 score:\t 0.22222222222222224\n",
      "Percent aligned: 0.05474635861376193\n"
     ]
    }
   ],
   "source": [
    "min_percent_aligned = .01\n",
    "best_precision_threshold = find_threshold_with_best_precision(threshold_df, min_percent_aligned=min_percent_aligned)\n",
    "print('Best precision threshold with at least', min_percent_aligned*100, '% aligned:', best_precision_threshold)\n",
    "y_true, y_pred, count_scores, input_idx = get_embedding_predictions_ing_weighted(\n",
    "    ing_input_data, 'RobertaModel', abs_threshold=best_precision_threshold)\n",
    "show_classification_results(y_true, y_pred, input_idx, input_data)"
   ]
  },
  {
   "cell_type": "code",
   "execution_count": 90,
   "metadata": {},
   "outputs": [
    {
     "name": "stdout",
     "output_type": "stream",
     "text": [
      "Best threshold with at least 10.0 % aligned: 0.6000000000000001\n",
      "Precision:\t 0.2793733681462141\n",
      "Recall:\t\t 0.44214876033057854\n",
      "F1 score:\t 0.34240000000000004\n",
      "Percent aligned: 0.19236564540431944\n"
     ]
    }
   ],
   "source": [
    "min_percent_aligned = .1\n",
    "percent_aligned_threshold = find_threshold_with_best_precision(threshold_df, min_percent_aligned=min_percent_aligned)\n",
    "print('Best threshold with at least', min_percent_aligned*100, '% aligned:', percent_aligned_threshold)\n",
    "y_true, y_pred, count_scores, input_idx = get_embedding_predictions_ing_weighted(\n",
    "    ing_input_data, 'RobertaModel', abs_threshold=percent_aligned_threshold)\n",
    "show_classification_results(y_true, y_pred, input_idx, input_data)"
   ]
  },
  {
   "cell_type": "markdown",
   "metadata": {},
   "source": [
    "## Weight embeddings by TF-IDF\n",
    "\n",
    "When averaging words for the sentence embedding, only considers words with TF-IDF weights (no stopwords).\n",
    "\n",
    "Includes ingredients in the TF-IDF context (not recipe description yet)\n",
    "\n",
    "Not lemmatized (not sure how to integrate that with GPT-2)"
   ]
  },
  {
   "cell_type": "code",
   "execution_count": 91,
   "metadata": {},
   "outputs": [],
   "source": [
    "def get_mean_sentence_embeddings_tfidf_weighted(sentence, model_name, tfidf_vectorizer):\n",
    "    # tokenize the sentence to be weighted\n",
    "    if model_name in ['BertModel', 'BertForMaskedLM']:\n",
    "        tokenizer = bert_tokenizer\n",
    "    elif model_name in ['RobertaModel']:\n",
    "        tokenizer = roberta_tokenizer\n",
    "    elif model_name in ['GPT2Model', 'GPT2LMHeadModel', 'GPT2DoubleHeadsModel']:\n",
    "        tokenizer = gpt2_tokenizer\n",
    "    elif model_name in ['XLNetModel', 'XLNetLMHeadModel', 'XLNetForSequenceClassification']:\n",
    "        tokenizer = xlnet_tokenizer\n",
    "    if model_name in ['GPT2Model', 'GPT2LMHeadModel', 'GPT2DoubleHeadsModel']:\n",
    "        text_index = tokenizer.encode(sentence, add_prefix_space=True)\n",
    "    else:\n",
    "        text_index = tokenizer.encode(sentence)\n",
    "    sentence_words = [tokenizer.decode(t) for t in text_index]\n",
    "    for remove_val in ['[CLS]', '[SEP]', '<cls>', '<sep>', '<s>', '</s>']:  # remove [CLS] and [SEP] tokens\n",
    "        if remove_val in sentence_words:\n",
    "            sentence_words.remove(remove_val)\n",
    "    sentence_words = sentence_words[:512]\n",
    "    \n",
    "    # get TF-IDF scores for each word in sentence to use as embedding weights\n",
    "    tfidf_features = tfidf_vectorizer.get_feature_names()\n",
    "    tfidf_weights = tfidf_vectorizer.transform([sentence]).todense()\n",
    "\n",
    "    # calculate TF-IDF weights for each word in the sentence\n",
    "    weights = np.array([])\n",
    "    for sentence_word in sentence_words:\n",
    "        clean_sentence_word = sentence_word.lower().strip()\n",
    "        if clean_sentence_word in tfidf_features:\n",
    "#             print('match:', sentence_word)\n",
    "            idx_of_tfidf_weight = tfidf_features.index(clean_sentence_word)\n",
    "            weights = np.append(weights, tfidf_weights[:,idx_of_tfidf_weight])\n",
    "        else:\n",
    "            weights = np.append(weights, 0)\n",
    "    weights = np.divide(weights, weights.sum())\n",
    "\n",
    "    # calculate weighted mean\n",
    "    sentence_vector = get_embeddings(sentence, model_name)  # vector size len(sentence_words) x 768\n",
    "    weighted_mean_vector = np.average(sentence_vector, axis=0, weights=weights)\n",
    "    return weighted_mean_vector"
   ]
  },
  {
   "cell_type": "code",
   "execution_count": 92,
   "metadata": {},
   "outputs": [],
   "source": [
    "def get_embedding_predictions_tfidf_weighted(input_data, model_name, abs_threshold=0.0):\n",
    "    y_true, y_pred, all_similarity_scores, input_idx = [], [], [], []\n",
    "    for idx, row in input_data.iterrows():\n",
    "        ingredient_vector = row['ingredients']\n",
    "        similarities = []\n",
    "        if model_name == 'BertSentenceModel':\n",
    "            question_vector = bert_sentence_model.encode([row['question_text']])[0].reshape(1, -1)\n",
    "            step_vector = bert_sentence_model.encode([row['step_text']])[0].reshape(1, -1)\n",
    "            similarity = cosine_similarity(question_vector, step_vector).item(0)\n",
    "        else:\n",
    "            question_vector = get_mean_sentence_embeddings_tfidf_weighted(\n",
    "                row['question_text'], model_name, tfidf_vectorizer).reshape(1, -1)\n",
    "            step_vector = get_mean_sentence_embeddings_tfidf_weighted(\n",
    "                row['step_text'], model_name, tfidf_vectorizer).reshape(1, -1)\n",
    "            similarity = cosine_similarity(question_vector, step_vector).item(0)\n",
    "        if similarity > abs_threshold:\n",
    "            pred = 1\n",
    "        else:\n",
    "            pred = 0\n",
    "        y_true.append(row['aligned'])\n",
    "        y_pred.append(pred)\n",
    "        all_similarity_scores.append(similarity)\n",
    "        input_idx.append(idx)\n",
    "    return y_true, y_pred, all_similarity_scores, input_idx\n",
    "\n",
    "def make_precision_plot_embeddings_tfidf_weighted(input_data, model_name,\n",
    "                                                  abs_threshold_range=np.arange(0, .11, .02)):\n",
    "    threshold_df = pd.DataFrame(columns=['abs_threshold', 'measure', 'value'])\n",
    "    for abs_threshold in abs_threshold_range:\n",
    "        y_true, y_pred, all_similarity_scores, input_idx = get_embedding_predictions_tfidf_weighted(\n",
    "            input_data, model_name, abs_threshold=abs_threshold)\n",
    "        precision = precision_score(y_true, y_pred)\n",
    "        percent_aligned = sum(y_pred)/len(input_data)\n",
    "        threshold_df = threshold_df.append({'abs_threshold': abs_threshold,\n",
    "            'measure': 'Precision', 'value': precision}, ignore_index=True)\n",
    "        threshold_df = threshold_df.append({'abs_threshold': abs_threshold,\n",
    "            'measure': 'Percent Aligned', 'value': percent_aligned}, ignore_index=True)\n",
    "    return threshold_df"
   ]
  },
  {
   "cell_type": "markdown",
   "metadata": {},
   "source": [
    "### BertSentenceModel"
   ]
  },
  {
   "cell_type": "code",
   "execution_count": 93,
   "metadata": {
    "scrolled": true
   },
   "outputs": [],
   "source": [
    "%%capture\n",
    "threshold_df = make_precision_plot_embeddings_tfidf_weighted(ing_input_data, 'BertSentenceModel',\n",
    "                                                             abs_threshold_range=np.arange(0, 1.1, .1))"
   ]
  },
  {
   "cell_type": "code",
   "execution_count": 94,
   "metadata": {},
   "outputs": [
    {
     "data": {
      "image/png": "[encoded data removed]",
      "text/plain": [
       "<Figure size 432x288 with 1 Axes>"
      ]
     },
     "metadata": {
      "needs_background": "light"
     },
     "output_type": "display_data"
    }
   ],
   "source": [
    "sns.lineplot(x='abs_threshold', y='value', hue='measure', data=threshold_df);"
   ]
  },
  {
   "cell_type": "code",
   "execution_count": 95,
   "metadata": {},
   "outputs": [
    {
     "name": "stdout",
     "output_type": "stream",
     "text": [
      "Best precision threshold with at least 1.0 % aligned: 0.7000000000000001\n",
      "Precision:\t 0.43902439024390244\n",
      "Recall:\t\t 0.1487603305785124\n",
      "F1 score:\t 0.22222222222222224\n",
      "Percent aligned: 0.04118533400301356\n"
     ]
    }
   ],
   "source": [
    "min_percent_aligned = .01\n",
    "best_precision_threshold = find_threshold_with_best_precision(threshold_df, min_percent_aligned=min_percent_aligned)\n",
    "print('Best precision threshold with at least', min_percent_aligned*100, '% aligned:', best_precision_threshold)\n",
    "y_true, y_pred, count_scores, input_idx = get_embedding_predictions_tfidf_weighted(\n",
    "    ing_input_data, 'BertSentenceModel', abs_threshold=best_precision_threshold)\n",
    "show_classification_results(y_true, y_pred, input_idx, input_data)"
   ]
  },
  {
   "cell_type": "code",
   "execution_count": 96,
   "metadata": {},
   "outputs": [
    {
     "name": "stdout",
     "output_type": "stream",
     "text": [
      "Best threshold with at least 10.0 % aligned: 0.6000000000000001\n",
      "Precision:\t 0.31666666666666665\n",
      "Recall:\t\t 0.47107438016528924\n",
      "F1 score:\t 0.3787375415282392\n",
      "Percent aligned: 0.1808136614766449\n"
     ]
    }
   ],
   "source": [
    "min_percent_aligned = .1\n",
    "percent_aligned_threshold = find_threshold_with_best_precision(threshold_df, min_percent_aligned=min_percent_aligned)\n",
    "print('Best threshold with at least', min_percent_aligned*100, '% aligned:', percent_aligned_threshold)\n",
    "y_true, y_pred, count_scores, input_idx = get_embedding_predictions_tfidf_weighted(\n",
    "    ing_input_data, 'BertSentenceModel', abs_threshold=percent_aligned_threshold)\n",
    "show_classification_results(y_true, y_pred, input_idx, input_data)"
   ]
  },
  {
   "cell_type": "markdown",
   "metadata": {},
   "source": [
    "### RobertaModel"
   ]
  },
  {
   "cell_type": "code",
   "execution_count": 97,
   "metadata": {
    "scrolled": true
   },
   "outputs": [],
   "source": [
    "%%capture\n",
    "threshold_df = make_precision_plot_embeddings_tfidf_weighted(ing_input_data, 'RobertaModel',\n",
    "                                                             abs_threshold_range=np.arange(0, 1.1, .1))"
   ]
  },
  {
   "cell_type": "code",
   "execution_count": 98,
   "metadata": {},
   "outputs": [
    {
     "data": {
      "image/png": "[encoded data removed]",
      "text/plain": [
       "<Figure size 432x288 with 1 Axes>"
      ]
     },
     "metadata": {
      "needs_background": "light"
     },
     "output_type": "display_data"
    }
   ],
   "source": [
    "sns.lineplot(x='abs_threshold', y='value', hue='measure', data=threshold_df);"
   ]
  },
  {
   "cell_type": "code",
   "execution_count": 99,
   "metadata": {},
   "outputs": [
    {
     "name": "stdout",
     "output_type": "stream",
     "text": [
      "Best precision threshold with at least 1.0 % aligned: 0.6000000000000001\n",
      "Precision:\t 0.7241379310344828\n",
      "Recall:\t\t 0.08677685950413223\n",
      "F1 score:\t 0.15498154981549817\n",
      "Percent aligned: 0.014565544952285283\n"
     ]
    }
   ],
   "source": [
    "min_percent_aligned = .01\n",
    "best_precision_threshold = find_threshold_with_best_precision(threshold_df, min_percent_aligned=min_percent_aligned)\n",
    "print('Best precision threshold with at least', min_percent_aligned*100, '% aligned:', best_precision_threshold)\n",
    "y_true, y_pred, count_scores, input_idx = get_embedding_predictions_tfidf_weighted(\n",
    "    ing_input_data, 'RobertaModel', abs_threshold=best_precision_threshold)\n",
    "show_classification_results(y_true, y_pred, input_idx, input_data)"
   ]
  },
  {
   "cell_type": "code",
   "execution_count": 100,
   "metadata": {},
   "outputs": [
    {
     "name": "stdout",
     "output_type": "stream",
     "text": [
      "Best threshold with at least 10.0 % aligned: 0.30000000000000004\n",
      "Precision:\t 0.3959537572254335\n",
      "Recall:\t\t 0.5661157024793388\n",
      "F1 score:\t 0.46598639455782315\n",
      "Percent aligned: 0.1737820190858865\n"
     ]
    }
   ],
   "source": [
    "min_percent_aligned = .1\n",
    "percent_aligned_threshold = find_threshold_with_best_precision(threshold_df, min_percent_aligned=min_percent_aligned)\n",
    "print('Best threshold with at least', min_percent_aligned*100, '% aligned:', percent_aligned_threshold)\n",
    "y_true, y_pred, count_scores, input_idx = get_embedding_predictions_tfidf_weighted(\n",
    "    ing_input_data, 'RobertaModel', abs_threshold=percent_aligned_threshold)\n",
    "show_classification_results(y_true, y_pred, input_idx, input_data)"
   ]
  },
  {
   "cell_type": "markdown",
   "metadata": {},
   "source": [
    "# Validation Data\n",
    "134 hand-checked examples from Instructables.com"
   ]
  },
  {
   "cell_type": "code",
   "execution_count": 10,
   "metadata": {},
   "outputs": [
    {
     "name": "stdout",
     "output_type": "stream",
     "text": [
      "Question Text:\n",
      " Do these cookies freeze well? \n",
      "\n",
      "Step ID:\n",
      " 0 \n",
      "\n",
      "Step Text:\n",
      " Preheat oven to 350. \n",
      "\n",
      "Aligned:\n",
      " 0 \n",
      "\n",
      "URL:\n",
      " https://www.food.com/recipe/linzer-tarts-191826 \n",
      "\n",
      "Ingredients:\n",
      " 1   cup    margarine 1/2  cup    sugar 1   large    egg 2   cups    all-purpose flour 1   teaspoon    vanilla seedless raspberry preserves powdered sugar\n"
     ]
    }
   ],
   "source": [
    "print('Question Text:\\n', label_df.iloc[0]['question_text'], '\\n')\n",
    "print('Step ID:\\n', label_df.iloc[0]['step_id'], '\\n')\n",
    "print('Step Text:\\n', label_df.iloc[0]['step_text'], '\\n')\n",
    "print('Aligned:\\n', label_df.iloc[0]['aligned'], '\\n')\n",
    "print('URL:\\n', label_df.iloc[0]['url'], '\\n')\n",
    "print('Ingredients:\\n', label_df.iloc[0]['ingredients'])"
   ]
  },
  {
   "cell_type": "markdown",
   "metadata": {},
   "source": [
    "# Results\n",
    "\n",
    "### Best Precision (at least 1% aligned)\n",
    "| Method                     | Precision | Recall | F1 Score | % Aligned\n",
    "|---|---|---|---|---|\n",
    "| Count Words in Common               | .90 | .07 | .13 |  1% |\n",
    "| Count Words in Common (Lemmatized)  | .32 | .18 | .23 |  7% |\n",
    "| Jaccard Similarity                  | .93 | .10 | .18 |  1% |\n",
    "| BLEU Score                          | .49 | .10 | .16 |  2% |\n",
    "| TF-IDF Vectors                      | .77 | .07 | .13 |  1% |\n",
    "| GloVe Twitter                       | .26 | .19 | .22 |  9% |\n",
    "| GloVe CommonCrawl                   | .38 | .14 | .21 |  4% |\n",
    "| GloVe Recipe Data                   | .47 | .08 | .14 |  2% |\n",
    "| BERT Sentence Model                 | .44 | .15 | .22 |  4% |\n",
    "| RoBERTa                             | .36 | .16 | .22 |  5% |\n",
    "| BERT w/ Ingredient Weighting        | .44 | .15 | .22 |  4% |\n",
    "| RoBERTa w/ Ingredient Weighting     | .36 | .16 | .22 |  5% |\n",
    "| BERT w/ TF-IDF Weighting            | .44 | .15 | .22 |  4% |\n",
    "| RoBERTa w/ TF-IDF Weighting         | .72 | .09 | .15 |  1% |\n",
    "\n",
    "### Best Precision (at least 10% aligned)\n",
    "| Method                     | Precision | Recall | F1 Score | % Aligned\n",
    "|---|---|---|---|---|\n",
    "| Count Words in Common               | .56 | .46 | .51 | 10% |\n",
    "| Count Words in Common (Lemmatized)  | .28 | .27 | .27 | 12% |\n",
    "| Jaccard Similarity                  | .34 | .58 | .43 | 21% |\n",
    "| BLEU Score                          | .32 | .31 | .31 | 11% |\n",
    "| TF-IDF Vectors                      | .61 | .55 | .58 | 11% |\n",
    "| GloVe Twitter                       | .17 | .69 | .28 | 48% |\n",
    "| GloVe CommonCrawl                   | .26 | .40 | .31 | 19% |\n",
    "| GloVe Recipe Data                   | .25 | .44 | .32 | 22% |\n",
    "| BERT Sentence Model                 | .32 | .47 | .38 | 18% |\n",
    "| RoBERTa                             | .28 | .44 | .34 | 19% |\n",
    "| BERT w/ Ingredient Weighting        | .32 | .47 | .38 | 18% |\n",
    "| RoBERTa w/ Ingredient Weighting     | .28 | .44 | .34 | 19% |\n",
    "| BERT w/ TF-IDF Weighting            | .32 | .47 | .37 | 18% |\n",
    "| RoBERTa w/ TF-IDF Weighting         | .40 | .57 | .47 | 17% |"
   ]
  },
  {
   "cell_type": "markdown",
   "metadata": {},
   "source": [
    "* **Count Words in Common:** For each word in the question (ignoring stopwords), see how many times it occurs in the step, and add up across all words in the question. Take the step with the highest sum.\n",
    "* **Count Words in Common (Lemmatized):** Same as above, but lemmatize words first.\n",
    "* **BLEU Score:** Calculate BLEU score between the question and each step, ignoring punctuation. Take the step with the highest score.\n",
    "* **TF-IDF Vector Cosine Similarity:** Transform questions and steps into TF-IDF vectors (removing stopwords and lemmatizing) and calculate the cosine similarity. Take the step with the highest cosine similarity. Uses questions, steps, and ingredients in the TF-IDF context.\n",
    "* **GPT-2 Embedding Cosine Similarity:** Get the GPT-2 embedding for each word of the question and steps, average across the words, then calculate the cosine similarity between the question and each step. Take the step with the highest cosine similarity.\n",
    "* **GPT-2 w/ Ingredient Weighting:** When calculating the mean embedding across all words in the question or step, give higher weight (10:1) to words in the ingredient list (ignoring stopwords and punctuation).\n",
    "* **GPT-2 w/ TF-IDF Weighting:** When calculating the mean embedding across all words in the question or step, weight words in the ingredient list (ignoring stopwords) with their TF-IDF score, and ignore all other words. Uses questions, steps, and ingredients in the TF-IDF context."
   ]
  },
  {
   "cell_type": "code",
   "execution_count": null,
   "metadata": {},
   "outputs": [],
   "source": []
  }
 ],
 "metadata": {
  "kernelspec": {
   "display_name": "Python 3.5",
   "language": "python",
   "name": "python3"
  },
  "language_info": {
   "codemirror_mode": {
    "name": "ipython",
    "version": 3
   },
   "file_extension": ".py",
   "mimetype": "text/x-python",
   "name": "python",
   "nbconvert_exporter": "python",
   "pygments_lexer": "ipython3",
   "version": "3.5.5"
  }
 },
 "nbformat": 4,
 "nbformat_minor": 2
}
